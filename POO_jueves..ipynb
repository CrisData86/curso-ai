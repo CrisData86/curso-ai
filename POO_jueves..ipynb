{
 "cells": [
  {
   "cell_type": "markdown",
   "metadata": {},
   "source": [
    "# Resumen"
   ]
  },
  {
   "cell_type": "code",
   "execution_count": 150,
   "metadata": {},
   "outputs": [],
   "source": [
    "\"\"\"\n",
    "Tenemos una aplicación que maneja información de usuarios. \n",
    "La clase base, Database, se encargará de la conexión y desconexión\n",
    "de la base de datos. Una clase derivada, UserDB, heredará de Database y \n",
    "tendrá métodos específicos para agregar, obtener y eliminar usuarios.\"\"\"\n",
    "\n",
    "import sqlite3\n",
    "\n",
    "class Database:\n",
    "    \"\"\"\n",
    "    Clase base que maneja la conexión y desconexión a una base de datos SQLite.\n",
    "\n",
    "    Atributos:\n",
    "        db_name (str): Nombre de la base de datos.\n",
    "        conn (sqlite3.Connection): Objeto de conexión a la base de datos.\n",
    "    \"\"\"\n",
    "\n",
    "    def __init__(self, db_name):\n",
    "        \"\"\"\n",
    "        Constructor de la clase Database.\n",
    "\n",
    "        Args:\n",
    "            db_name (str): Nombre de la base de datos.\n",
    "        \"\"\"\n",
    "        self.db_name = db_name\n",
    "        self.conn = None\n",
    "\n",
    "    def connect(self):\n",
    "        \"\"\"Establece la conexión a la base de datos.\"\"\"\n",
    "        self.conn = sqlite3.connect(self.db_name)\n",
    "\n",
    "    def disconnect(self):\n",
    "        \"\"\"Cierra la conexión a la base de datos.\"\"\"\n",
    "        if self.conn:\n",
    "            self.conn.close()\n",
    "\n",
    "    def execute(self, query, params=()):\n",
    "        \"\"\"\n",
    "        Ejecuta una consulta SQL en la base de datos.\n",
    "\n",
    "        Args:\n",
    "            query (str): Consulta SQL a ejecutar.\n",
    "            params (tuple, optional): Parámetros para la consulta SQL.\n",
    "\n",
    "        Returns:\n",
    "            sqlite3.Cursor: Objeto cursor que permite interactuar con el resultado de la consulta.\n",
    "        \"\"\"\n",
    "        cursor = self.conn.cursor()\n",
    "        cursor.execute(query, params)\n",
    "        self.conn.commit()\n",
    "        return cursor\n",
    "\n",
    "class UserDB(Database):\n",
    "    \"\"\"\n",
    "    Clase que maneja operaciones específicas con usuarios en la base de datos.\n",
    "\n",
    "    Hereda de:\n",
    "        Database\n",
    "    \"\"\"\n",
    "\n",
    "    def __init__(self, db_name):\n",
    "        \"\"\"\n",
    "        Constructor de la clase UserDB.\n",
    "\n",
    "        Args:\n",
    "            db_name (str): Nombre de la base de datos.\n",
    "        \"\"\"\n",
    "        super().__init__(db_name)\n",
    "        self.connect()\n",
    "        self.execute(\"\"\"CREATE TABLE IF NOT EXISTS users (id INTEGER PRIMARY KEY, username TEXT, email TEXT)\"\"\")\n",
    "        self.disconnect()\n",
    "\n",
    "    def add_user(self, username, email):\n",
    "        \"\"\"\n",
    "        Agrega un nuevo usuario a la base de datos.\n",
    "\n",
    "        Args:\n",
    "            username (str): Nombre de usuario.\n",
    "            email (str): Dirección de correo electrónico del usuario.\n",
    "        \"\"\"\n",
    "        self.connect()\n",
    "        self.execute(\"INSERT INTO users (username, email) VALUES (?, ?)\", (username, email))\n",
    "        self.disconnect()\n",
    "\n",
    "    def get_user(self, user_id):\n",
    "        \"\"\"\n",
    "        Obtiene un usuario de la base de datos por su ID.\n",
    "\n",
    "        Args:\n",
    "            user_id (int): ID del usuario.\n",
    "\n",
    "        Returns:\n",
    "            tuple: Datos del usuario (id, username, email) o None si no se encuentra.\n",
    "        \"\"\"\n",
    "        self.connect()\n",
    "        cursor = self.execute(\"SELECT * FROM users WHERE id=?\", (user_id,))\n",
    "        user = cursor.fetchone()\n",
    "        self.disconnect()\n",
    "        return user\n",
    "\n",
    "    def delete_user(self, user_id):\n",
    "        \"\"\"\n",
    "        Elimina un usuario de la base de datos por su ID.\n",
    "\n",
    "        Args:\n",
    "            user_id (int): ID del usuario.\n",
    "        \"\"\"\n",
    "        self.connect()\n",
    "        self.execute(\"DELETE FROM users WHERE id=?\", (user_id,))\n",
    "        self.disconnect()\n",
    "\n",
    "\n",
    "def view_table(db_name, table_name=\"users\"):\n",
    "    \"\"\"\n",
    "    Visualiza todos los registros de una tabla en la base de datos SQLite.\n",
    "\n",
    "    Args:\n",
    "        db_name (str): Nombre de la base de datos.\n",
    "        table_name (str, optional): Nombre de la tabla. Por defecto es \"users\".\n",
    "    \"\"\"\n",
    "    # Conectarse a la base de datos\n",
    "    conn = sqlite3.connect(db_name)\n",
    "    cursor = conn.cursor()\n",
    "    \n",
    "    # Obtener y mostrar todos los registros de la tabla\n",
    "    cursor.execute(f\"SELECT * FROM {table_name}\")\n",
    "    rows = cursor.fetchall()\n",
    "    for row in rows:\n",
    "        print(row)\n",
    "    \n",
    "    # Cerrar la conexión\n",
    "    conn.close()\n",
    "\n"
   ]
  },
  {
   "cell_type": "markdown",
   "metadata": {},
   "source": [
    "# Usuarios Titan "
   ]
  },
  {
   "cell_type": "code",
   "execution_count": 153,
   "metadata": {},
   "outputs": [
    {
     "name": "stdout",
     "output_type": "stream",
     "text": [
      "Nombre: Jorge\n",
      "email : jr@hfghfhfd.com\n"
     ]
    }
   ],
   "source": [
    "# Uso de las clases\n",
    "\n",
    "db_users = UserDB(\"usuarios.sqlite\") # creamos el objeto\n",
    "\n",
    "# Agregar usuarios\n",
    "nombre = str(input(\"Nombre: \"))\n",
    "email  = str(input(\"email : \"))\n",
    "\n",
    "db_users.add_user(nombre, email)"
   ]
  },
  {
   "cell_type": "code",
   "execution_count": 154,
   "metadata": {},
   "outputs": [
    {
     "name": "stdout",
     "output_type": "stream",
     "text": [
      "(1, 'cris', 'cris@titan1.com')\n",
      "(2, 'Jorge', 'jr@tital32.com')\n",
      "(3, 'cris rios', 'cr@hhh.com')\n",
      "(4, 'Jorge', 'jr@hfghfhfd.com')\n",
      "None\n"
     ]
    }
   ],
   "source": [
    "print(view_table(\"usuarios.sqlite\"))"
   ]
  },
  {
   "cell_type": "code",
   "execution_count": 156,
   "metadata": {},
   "outputs": [
    {
     "name": "stdout",
     "output_type": "stream",
     "text": [
      "(4, 'Jorge', 'jr@hfghfhfd.com')\n"
     ]
    }
   ],
   "source": [
    "# Obtener y mostrar un usuario\n",
    "user = db_users.get_user(4)\n",
    "print(user)\n"
   ]
  },
  {
   "cell_type": "code",
   "execution_count": 19,
   "metadata": {},
   "outputs": [],
   "source": [
    "\n",
    "# Eliminar un usuario\n",
    "db.delete_user(1)"
   ]
  },
  {
   "cell_type": "code",
   "execution_count": null,
   "metadata": {},
   "outputs": [],
   "source": []
  },
  {
   "cell_type": "markdown",
   "metadata": {},
   "source": [
    "# Encapsulación"
   ]
  },
  {
   "cell_type": "markdown",
   "metadata": {},
   "source": [
    "Imagina que estamos modelando un producto para una tienda  (retail). Queremos que el producto tenga un nombre y un precio, pero no queremos que el precio pueda ser negativo. Para evitar que el precio se establezca a un valor negativo, vamos a encapsular el atributo precio y proporcionar métodos para establecer y obtener su valor de manera controlada."
   ]
  },
  {
   "cell_type": "code",
   "execution_count": 170,
   "metadata": {},
   "outputs": [],
   "source": [
    "class Producto:\n",
    "    \"\"\"\n",
    "    Clase que representa un producto en una tienda.\n",
    "\n",
    "    Atributos:\n",
    "        nombre (str): Nombre del producto.\n",
    "        __precio (float): Precio del producto (es privado para evitar modificaciones no deseadas).\n",
    "    \n",
    "    Métodos:\n",
    "        establecer_precio(precio): Establece el precio del producto.\n",
    "        obtener_precio(): Retorna el precio del producto.\n",
    "        mostrar_info(): Retorna una cadena de caracteres con la información del producto.\n",
    "    \"\"\"\n",
    "\n",
    "    def __init__(self, nombre):\n",
    "        \"\"\"\n",
    "        Constructor de la clase Producto.\n",
    "\n",
    "        Args:\n",
    "            nombre (str): Nombre del producto.\n",
    "        \"\"\"\n",
    "        self.nombre = nombre # Atributo publico\n",
    "        self.__precio = 0.0  # Atributo privado\n",
    "\n",
    "    def establecer_precio(self, precio):\n",
    "        \"\"\"\n",
    "        Establece el precio del producto. Si se intenta establecer un precio negativo,\n",
    "        muestra un mensaje de error y no modifica el precio.\n",
    "\n",
    "        Args:\n",
    "            precio (float): Nuevo precio del producto.\n",
    "        \"\"\"\n",
    "        if precio >= 0:\n",
    "            self.__precio = precio\n",
    "        else:\n",
    "            print(\"Error: El precio no puede ser negativo.\")\n",
    "\n",
    "    def obtener_precio(self):\n",
    "        \"\"\"\n",
    "        Retorna el precio del producto.\n",
    "\n",
    "        Returns:\n",
    "            float: Precio del producto.\n",
    "        \"\"\"\n",
    "        return self.__precio\n",
    "\n",
    "    def mostrar_info(self):\n",
    "        \"\"\"\n",
    "        Retorna una cadena de caracteres con la información del producto.\n",
    "\n",
    "        Returns:\n",
    "            str: Información del producto en formato \"Nombre: {nombre}, Precio: ${precio}\".\n",
    "        \"\"\"\n",
    "        return f\"Nombre: {self.nombre}, Precio: ${self.__precio}\"\n",
    "\n",
    "\n",
    "\n"
   ]
  },
  {
   "cell_type": "code",
   "execution_count": 171,
   "metadata": {},
   "outputs": [],
   "source": [
    "# Uso de la clase Producto\n",
    "\n",
    "camiseta = Producto(\"Camiseta básica\")"
   ]
  },
  {
   "cell_type": "code",
   "execution_count": 172,
   "metadata": {},
   "outputs": [
    {
     "name": "stdout",
     "output_type": "stream",
     "text": [
      "Nombre: Camiseta básica, Precio: $15.99\n"
     ]
    }
   ],
   "source": [
    "camiseta.establecer_precio(15.99)  # Establecemos el precio de la camiseta\n",
    "print(camiseta.mostrar_info())  # Mostramos la información de la camiseta"
   ]
  },
  {
   "cell_type": "code",
   "execution_count": 173,
   "metadata": {},
   "outputs": [
    {
     "name": "stdout",
     "output_type": "stream",
     "text": [
      "Error: El precio no puede ser negativo.\n",
      "Nombre: Camiseta básica, Precio: $15.99\n"
     ]
    }
   ],
   "source": [
    "camiseta.establecer_precio(-15.99)  # Intentamos establecer un precio negativo (no tendrá efecto)\n",
    "print(camiseta.mostrar_info())  # Mostramos la información de la camiseta nuevamente"
   ]
  },
  {
   "cell_type": "code",
   "execution_count": 174,
   "metadata": {},
   "outputs": [
    {
     "data": {
      "text/plain": [
       "'Camiseta básica'"
      ]
     },
     "execution_count": 174,
     "metadata": {},
     "output_type": "execute_result"
    }
   ],
   "source": [
    "camiseta.nombre"
   ]
  },
  {
   "cell_type": "code",
   "execution_count": 176,
   "metadata": {},
   "outputs": [
    {
     "ename": "AttributeError",
     "evalue": "'Producto' object has no attribute '__precio'",
     "output_type": "error",
     "traceback": [
      "\u001b[1;31m---------------------------------------------------------------------------\u001b[0m",
      "\u001b[1;31mAttributeError\u001b[0m                            Traceback (most recent call last)",
      "\u001b[1;32m<ipython-input-176-f66d6e97c2ca>\u001b[0m in \u001b[0;36m<module>\u001b[1;34m\u001b[0m\n\u001b[1;32m----> 1\u001b[1;33m \u001b[0mcamiseta\u001b[0m\u001b[1;33m.\u001b[0m\u001b[0m__precio\u001b[0m\u001b[1;33m\u001b[0m\u001b[1;33m\u001b[0m\u001b[0m\n\u001b[0m",
      "\u001b[1;31mAttributeError\u001b[0m: 'Producto' object has no attribute '__precio'"
     ]
    }
   ],
   "source": [
    "camiseta.__precio"
   ]
  },
  {
   "cell_type": "code",
   "execution_count": null,
   "metadata": {},
   "outputs": [],
   "source": []
  },
  {
   "cell_type": "code",
   "execution_count": null,
   "metadata": {},
   "outputs": [],
   "source": []
  },
  {
   "cell_type": "markdown",
   "metadata": {},
   "source": [
    "# Encapsulación proteccion de datos"
   ]
  },
  {
   "cell_type": "markdown",
   "metadata": {},
   "source": [
    "Vamos a usar un ejemplo simple para ilustrar cómo el encapsulamiento en Python puede ser utilizado para la protección de datos. Supongamos que tenemos una clase CuentaBancaria que debe proteger su saldo de accesos y modificaciones no autorizadas:"
   ]
  },
  {
   "cell_type": "code",
   "execution_count": 177,
   "metadata": {},
   "outputs": [],
   "source": [
    "class CuentaBancaria:\n",
    "\n",
    "    def __init__(self, titular, saldo_inicial=0):\n",
    "        self._titular = titular   # _ indica que es \"privado\" por convención\n",
    "        self.__saldo = saldo_inicial  # __ indica que es protegido\n",
    "\n",
    "    # Métodos getter y setter para saldo\n",
    "    def get_saldo(self):\n",
    "        \n",
    "        return self.__saldo\n",
    "\n",
    "    def depositar(self, cantidad):\n",
    "        if cantidad > 0:\n",
    "            self.__saldo += cantidad\n",
    "            return f\"Deposito exitoso. Saldo actual: {self.__saldo}\"\n",
    "        else:\n",
    "            return \"La cantidad a depositar debe ser positiva.\"\n",
    "\n",
    "    def retirar(self, cantidad):\n",
    "        if 0 < cantidad <= self.__saldo:\n",
    "            self.__saldo -= cantidad\n",
    "            return f\"Retiro exitoso. Saldo actual: {self.__saldo}\"\n",
    "        elif cantidad <= 0:\n",
    "            return \"La cantidad a retirar debe ser positiva.\"\n",
    "        else:\n",
    "            return \"Saldo insuficiente.\"\n",
    "\n"
   ]
  },
  {
   "cell_type": "code",
   "execution_count": 178,
   "metadata": {},
   "outputs": [],
   "source": [
    "# Probando el código\n",
    "cuenta = CuentaBancaria(\"Juan\") # Instanciando la clase, o creando el objeto"
   ]
  },
  {
   "cell_type": "code",
   "execution_count": 179,
   "metadata": {},
   "outputs": [
    {
     "name": "stdout",
     "output_type": "stream",
     "text": [
      "Deposito exitoso. Saldo actual: 100\n"
     ]
    }
   ],
   "source": [
    "print(cuenta.depositar(100))\n"
   ]
  },
  {
   "cell_type": "code",
   "execution_count": 180,
   "metadata": {},
   "outputs": [
    {
     "name": "stdout",
     "output_type": "stream",
     "text": [
      "Retiro exitoso. Saldo actual: 50\n"
     ]
    }
   ],
   "source": [
    "print(cuenta.retirar(50))"
   ]
  },
  {
   "cell_type": "code",
   "execution_count": 181,
   "metadata": {},
   "outputs": [
    {
     "name": "stdout",
     "output_type": "stream",
     "text": [
      "Saldo insuficiente.\n"
     ]
    }
   ],
   "source": [
    "print(cuenta.retirar(200))"
   ]
  },
  {
   "cell_type": "code",
   "execution_count": 182,
   "metadata": {},
   "outputs": [
    {
     "ename": "AttributeError",
     "evalue": "'CuentaBancaria' object has no attribute '__saldo'",
     "output_type": "error",
     "traceback": [
      "\u001b[1;31m---------------------------------------------------------------------------\u001b[0m",
      "\u001b[1;31mAttributeError\u001b[0m                            Traceback (most recent call last)",
      "\u001b[1;32m<ipython-input-182-959cd1bdbe06>\u001b[0m in \u001b[0;36m<module>\u001b[1;34m\u001b[0m\n\u001b[0;32m      1\u001b[0m \u001b[1;31m# Si intentas acceder directamente al saldo, Python lo impide\u001b[0m\u001b[1;33m\u001b[0m\u001b[1;33m\u001b[0m\u001b[1;33m\u001b[0m\u001b[0m\n\u001b[1;32m----> 2\u001b[1;33m \u001b[0mprint\u001b[0m\u001b[1;33m(\u001b[0m\u001b[0mcuenta\u001b[0m\u001b[1;33m.\u001b[0m\u001b[0m__saldo\u001b[0m\u001b[1;33m)\u001b[0m  \u001b[1;31m# AttributeError: 'CuentaBancaria' object has no attribute '__saldo'\u001b[0m\u001b[1;33m\u001b[0m\u001b[1;33m\u001b[0m\u001b[0m\n\u001b[0m",
      "\u001b[1;31mAttributeError\u001b[0m: 'CuentaBancaria' object has no attribute '__saldo'"
     ]
    }
   ],
   "source": [
    "# Si intentas acceder directamente al saldo, Python lo impide\n",
    "print(cuenta.__saldo)  # AttributeError: 'CuentaBancaria' object has no attribute '__saldo'"
   ]
  },
  {
   "cell_type": "code",
   "execution_count": 183,
   "metadata": {},
   "outputs": [
    {
     "name": "stdout",
     "output_type": "stream",
     "text": [
      "50\n"
     ]
    }
   ],
   "source": [
    "# Pero puedes obtenerlo a través del método get_saldo()\n",
    "print(cuenta.get_saldo())  # 50"
   ]
  },
  {
   "cell_type": "markdown",
   "metadata": {},
   "source": [
    "# Decoradores"
   ]
  },
  {
   "cell_type": "markdown",
   "metadata": {},
   "source": [
    "Los decoradores en Python son una poderosa herramienta que permite modificar o ampliar el comportamiento de funciones o métodos sin cambiar su código."
   ]
  },
  {
   "cell_type": "code",
   "execution_count": 186,
   "metadata": {},
   "outputs": [],
   "source": [
    "# sirven para agregar o extender funcionalidades a una funciones o metodos ya existentes sin cambiar\n",
    "# su codigo\n",
    "\n",
    "def decorator(func):\n",
    "    def wrapper(*args, **kwargs):\n",
    "        print('acciones ante de la func')\n",
    "        result = func(*args, **kwargs)\n",
    "        print('despues de ejecutar mi func')\n",
    "        return result\n",
    "    return wrapper\n",
    "\n",
    "\n",
    "\n",
    "@decorator\n",
    "def mi_funcion():\n",
    "    print(\"esta es mi funcion\") "
   ]
  },
  {
   "cell_type": "code",
   "execution_count": 187,
   "metadata": {},
   "outputs": [
    {
     "name": "stdout",
     "output_type": "stream",
     "text": [
      "acciones ante de la func\n",
      "esta es mi funcion\n",
      "despues de ejecutar mi func\n"
     ]
    }
   ],
   "source": [
    "mi_funcion()"
   ]
  },
  {
   "cell_type": "markdown",
   "metadata": {},
   "source": [
    " Vamos a usar un ejemplo sencillo de ventas donde un decorador aplica un descuento a ciertos productos:"
   ]
  },
  {
   "cell_type": "markdown",
   "metadata": {},
   "source": [
    "Supongamos que queremos aplicar un descuento del 10% a ciertos productos en venta.\n",
    "Usaremos un decorador para hacerlo."
   ]
  },
  {
   "cell_type": "code",
   "execution_count": 193,
   "metadata": {},
   "outputs": [],
   "source": [
    "def descuento_10pc(funcion):\n",
    "    \"\"\"\n",
    "    Decorador que aplica un descuento del 10% al resultado de la función decorada.\n",
    "    \n",
    "    Args:\n",
    "        funcion (Callable): Función a la que se le aplicará el descuento.\n",
    "        \n",
    "    Returns:\n",
    "        Callable: Función envuelta que aplica el descuento.\n",
    "    \"\"\"\n",
    "    def wrapper(*args, **kwargs):\n",
    "        \"\"\"Función envolvente que aplica el descuento.\"\"\"\n",
    "        precio_original = funcion(*args, **kwargs)\n",
    "        return precio_original * 0.9  # Aplicamos un descuento del 10%\n",
    "    \n",
    "    return wrapper\n",
    "\n",
    "@descuento_10pc\n",
    "def precio_producto(codigo_producto):\n",
    "    \"\"\"\n",
    "    Devuelve el precio del producto basado en su código.\n",
    "    \n",
    "    Por simplicidad, este ejemplo devuelve un precio fijo de $100 para cualquier código.\n",
    "    En una aplicación real, el precio se recuperaría de una base de datos o similar.\n",
    "    \n",
    "    Args:\n",
    "        codigo_producto (str): Código del producto.\n",
    "        \n",
    "    Returns:\n",
    "        float: Precio del producto.\n",
    "    \"\"\"\n",
    "    return 100\n"
   ]
  },
  {
   "cell_type": "code",
   "execution_count": 194,
   "metadata": {},
   "outputs": [
    {
     "name": "stdout",
     "output_type": "stream",
     "text": [
      "El precio del producto ABC123 con descuento es: $90.0\n"
     ]
    }
   ],
   "source": [
    "# Uso del decorador\n",
    "codigo = \"ABC123\"\n",
    "print(f\"El precio del producto {codigo} con descuento es: ${precio_producto(codigo)}\")\n"
   ]
  },
  {
   "cell_type": "markdown",
   "metadata": {},
   "source": [
    "# Medir tiempo de ejecución"
   ]
  },
  {
   "cell_type": "code",
   "execution_count": 198,
   "metadata": {},
   "outputs": [],
   "source": [
    "import time\n",
    "\n",
    "def tiempo_de_ejecucion(funcion):\n",
    "    \"\"\"\n",
    "    Decorador que mide y muestra el tiempo de ejecución de una función.\n",
    "    \n",
    "    Args:\n",
    "        funcion (Callable): Función cuyo tiempo de ejecución se medirá.\n",
    "        \n",
    "    Returns:\n",
    "        Callable: Función envuelta que mide el tiempo de ejecución.\n",
    "    \"\"\"\n",
    "    def wrapper(*args, **kwargs):\n",
    "        inicio = time.time()\n",
    "        resultado = funcion(*args, **kwargs)\n",
    "        fin = time.time()\n",
    "        print(f\"{funcion.__name__} se ejecutó en {fin - inicio:.4f} segundos.\")\n",
    "        return resultado\n",
    "    \n",
    "    return wrapper\n",
    "\n",
    "@tiempo_de_ejecucion\n",
    "def funcion_test(segundos):\n",
    "    \"\"\"Simula una función que tarda un tiempo en ejecutarse.\"\"\"\n",
    "    time.sleep(segundos)\n",
    "    return f\"Función dormida durante {segundos} segundos.\"\n"
   ]
  },
  {
   "cell_type": "code",
   "execution_count": 199,
   "metadata": {},
   "outputs": [
    {
     "name": "stdout",
     "output_type": "stream",
     "text": [
      "funcion_test se ejecutó en 3.0006 segundos.\n",
      "Función dormida durante 3 segundos.\n"
     ]
    }
   ],
   "source": [
    "# Uso del decorador\n",
    "print(funcion_test(3))"
   ]
  },
  {
   "cell_type": "markdown",
   "metadata": {},
   "source": [
    "# Control de acceso"
   ]
  },
  {
   "cell_type": "markdown",
   "metadata": {},
   "source": [
    "Los decoradores también pueden ser útiles para implementar un control de acceso basado en contraseñas para ciertos métodos de una clase. A continuación, un ejemplo sencillo en el que usamos un decorador para proteger métodos que requieren una contraseña:"
   ]
  },
  {
   "cell_type": "code",
   "execution_count": 208,
   "metadata": {},
   "outputs": [],
   "source": [
    "def requerir_contrasena(password_correcto):\n",
    "    \"\"\"Decorador para requerir contraseña en un método.\"\"\"\n",
    "    def decorador(funcion):\n",
    "        def wrapper(instancia, *args, **kwargs):\n",
    "            password = input(\"Ingrese la contraseña: \")\n",
    "            if password == password_correcto:\n",
    "                return funcion(instancia, *args, **kwargs)\n",
    "            else:\n",
    "                print(\"Password incorrecto.\")\n",
    "                return None\n",
    "        return wrapper\n",
    "    return decorador\n",
    "\n",
    "\n",
    "\n",
    "\n",
    "class DatosSecretos:\n",
    "    def __init__(self):\n",
    "        self.informacion = \"acceso a base de datos de información secreta.\"\n",
    "\n",
    "    @requerir_contrasena(\"titan123\")\n",
    "    def mostrar_informacion(self):\n",
    "        \"\"\"Muestra la información secreta.\"\"\"\n",
    "        try:\n",
    "            print(self.informacion)\n",
    "        except:\n",
    "            return 'password incorrecto, acceso denegado'\n",
    "\n",
    "    def informacion_publica(self):\n",
    "        \"\"\"Muestra información pública.\"\"\"\n",
    "        print(\"acceso a base de datos de información\")\n"
   ]
  },
  {
   "cell_type": "code",
   "execution_count": 209,
   "metadata": {},
   "outputs": [],
   "source": [
    "# Uso de la clase\n",
    "datos = DatosSecretos()"
   ]
  },
  {
   "cell_type": "code",
   "execution_count": 210,
   "metadata": {},
   "outputs": [
    {
     "name": "stdout",
     "output_type": "stream",
     "text": [
      "Ingrese la contraseña: kkkk\n",
      "Password incorrecto.\n"
     ]
    }
   ],
   "source": [
    "# Al llamar a este método, se pedirá la contraseña.\n",
    "datos.mostrar_informacion()"
   ]
  },
  {
   "cell_type": "code",
   "execution_count": 211,
   "metadata": {},
   "outputs": [
    {
     "name": "stdout",
     "output_type": "stream",
     "text": [
      "acceso a base de datos de información\n"
     ]
    }
   ],
   "source": [
    "# Este método no tiene protección y se puede llamar sin problemas.\n",
    "datos.informacion_publica()"
   ]
  },
  {
   "cell_type": "markdown",
   "metadata": {},
   "source": [
    "# @property decorador"
   ]
  },
  {
   "cell_type": "markdown",
   "metadata": {},
   "source": [
    "En este ejemplo:\n",
    "\n",
    "La clase Producto representa un producto en un inventario con un nombre y una cantidad.\n",
    "La función cantidad está decorada con @property, lo que significa que puedes acceder a la cantidad del producto como si fuera un atributo (producto.cantidad) en lugar de llamar a un método.\n",
    "Hemos definido un setter para cantidad para realizar una validación y garantizar que la cantidad no sea negativa.\n",
    "El atributo nombre es de solo lectura (solo tiene un getter), por lo que no se puede modificar después de la creación del objeto.\n",
    "El uso de property es una forma elegante de encapsular el acceso a los atributos de una clase y proporcionar validaciones adicionales o lógica personalizada cuando sea necesario."
   ]
  },
  {
   "cell_type": "code",
   "execution_count": 123,
   "metadata": {},
   "outputs": [],
   "source": [
    "class Producto:\n",
    "    def __init__(self, nombre, cantidad):\n",
    "        self._nombre = nombre\n",
    "        self._cantidad = cantidad\n",
    "\n",
    "    @property\n",
    "    def cantidad(self):\n",
    "        \"\"\"Obtiene la cantidad actual del producto en el inventario.\"\"\"\n",
    "        return self._cantidad\n",
    "\n",
    "    @cantidad.setter\n",
    "    def cantidad(self, valor):\n",
    "        \"\"\"Establece una nueva cantidad para el producto en el inventario.\"\"\"\n",
    "        if valor < 0:\n",
    "            print(f\"Error: No puedes tener una cantidad negativa de {self._nombre}.\")\n",
    "        else:\n",
    "            self._cantidad = valor\n",
    "\n",
    "    @property\n",
    "    def nombre(self):\n",
    "        \"\"\"Obtiene el nombre del producto.\"\"\"\n",
    "        return self._nombre"
   ]
  },
  {
   "cell_type": "code",
   "execution_count": 125,
   "metadata": {},
   "outputs": [
    {
     "name": "stdout",
     "output_type": "stream",
     "text": [
      "Manzana\n",
      "10\n"
     ]
    }
   ],
   "source": [
    "# Uso del código\n",
    "producto = Producto(\"Manzana\", 10)\n",
    "print(producto.nombre)  # Accede al nombre usando un atributo en lugar de un método\n",
    "print(producto.cantidad)  # Accede a la cantidad como un atributo\n",
    "\n"
   ]
  },
  {
   "cell_type": "code",
   "execution_count": 121,
   "metadata": {},
   "outputs": [
    {
     "name": "stdout",
     "output_type": "stream",
     "text": [
      "5\n"
     ]
    }
   ],
   "source": [
    "producto.cantidad = 5  # Establece una nueva cantidad\n",
    "print(producto.cantidad)"
   ]
  },
  {
   "cell_type": "code",
   "execution_count": null,
   "metadata": {},
   "outputs": [],
   "source": [
    "producto.cantidad = -3  # Intenta establecer una cantidad negativa; mostrará un error"
   ]
  },
  {
   "cell_type": "markdown",
   "metadata": {},
   "source": [
    "## Validación de datos: @property\n",
    "Al establecer un valor para un atributo, es posible que desees asegurarte de que cumpla ciertos criterios. Usar @property con un setter te permite hacer esto."
   ]
  },
  {
   "cell_type": "code",
   "execution_count": 126,
   "metadata": {},
   "outputs": [
    {
     "name": "stdout",
     "output_type": "stream",
     "text": [
      "5\n"
     ]
    }
   ],
   "source": [
    "class Circle:\n",
    "    def __init__(self, radius):\n",
    "        self._radius = radius\n",
    "\n",
    "    @property\n",
    "    def radius(self):\n",
    "        return self._radius\n",
    "\n",
    "    @radius.setter\n",
    "    def radius(self, value):\n",
    "        if value < 0:\n",
    "            raise ValueError(\"El radio no puede ser negativo\")\n",
    "        self._radius = value\n",
    "\n",
    "c = Circle(5)  # crea un objeto Circle con radio 5\n",
    "print(c.radius)  # 5"
   ]
  },
  {
   "cell_type": "markdown",
   "metadata": {},
   "source": [
    "# getters and setters"
   ]
  },
  {
   "cell_type": "markdown",
   "metadata": {},
   "source": [
    "Los getters y setters en Python se usan para obtener o establecer el valor de un atributo, respectivamente, y a menudo se utilizan para añadir una capa de abstracción o para realizar validaciones."
   ]
  },
  {
   "cell_type": "code",
   "execution_count": 134,
   "metadata": {},
   "outputs": [],
   "source": [
    "class Venta:\n",
    "    def __init__(self):\n",
    "        self._productos = []  # Lista que contendrá los productos vendidos.\n",
    "        self._total = 0.0  # Total inicial de la venta.\n",
    "\n",
    "    @property\n",
    "    def productos(self):\n",
    "        \"\"\"\n",
    "        Getter para los productos de la venta.\n",
    "\n",
    "        Returns:\n",
    "            list: Lista de productos vendidos.\n",
    "        \"\"\"\n",
    "        return self._productos\n",
    "\n",
    "    @productos.setter\n",
    "    def productos(self, producto):\n",
    "        \"\"\"\n",
    "        Setter para añadir un producto a la venta.\n",
    "\n",
    "        Args:\n",
    "            producto (tuple): Un producto en forma de tupla (nombre, precio).\n",
    "        \"\"\"\n",
    "        nombre, precio = producto\n",
    "        if not nombre or precio <= 0:\n",
    "            print(\"Error: Producto inválido. No se ha añadido a la venta.\")\n",
    "            return\n",
    "        self._productos.append(producto)\n",
    "        self._total += precio  # Actualizamos el total de la venta.\n",
    "\n",
    "    @property\n",
    "    def total(self):\n",
    "        \"\"\"\n",
    "        Getter para el total de la venta.\n",
    "\n",
    "        Returns:\n",
    "            float: Total de la venta.\n",
    "        \"\"\"\n",
    "        return self._total\n",
    "\n",
    "    @total.setter\n",
    "    def total(self, valor):\n",
    "        \"\"\"\n",
    "        Setter para el total de la venta.\n",
    "\n",
    "        Args:\n",
    "            valor (float): Nuevo total de la venta.\n",
    "        \"\"\"\n",
    "        if valor < 0:\n",
    "            print(\"Error: El total de la venta no puede ser negativo.\")\n",
    "            return\n",
    "        self._total = valor\n",
    "\n",
    "\n"
   ]
  },
  {
   "cell_type": "code",
   "execution_count": 135,
   "metadata": {},
   "outputs": [],
   "source": [
    "# Ejemplo de uso:\n",
    "\n",
    "venta = Venta()\n",
    "\n",
    "venta.productos = (\"Manzana\", 0.5)\n",
    "venta.productos = (\"Pera\", 0.7)"
   ]
  },
  {
   "cell_type": "code",
   "execution_count": 136,
   "metadata": {},
   "outputs": [
    {
     "name": "stdout",
     "output_type": "stream",
     "text": [
      "Error: Producto inválido. No se ha añadido a la venta.\n",
      "Error: Producto inválido. No se ha añadido a la venta.\n"
     ]
    }
   ],
   "source": [
    "venta.productos = (\"Banana\", -0.2)  # Producto inválido, no será añadido.\n",
    "venta.productos = (\"\", 1.0)        # Producto inválido, no será añadido."
   ]
  },
  {
   "cell_type": "code",
   "execution_count": 137,
   "metadata": {},
   "outputs": [
    {
     "name": "stdout",
     "output_type": "stream",
     "text": [
      "[('Manzana', 0.5), ('Pera', 0.7)]\n",
      "1.2\n"
     ]
    }
   ],
   "source": [
    "print(venta.productos)  # Debería mostrar solo la manzana y la pera.\n",
    "print(venta.total)      # Debería mostrar 1.2, que es la suma de los precios de la manzana y la pera."
   ]
  },
  {
   "cell_type": "markdown",
   "metadata": {},
   "source": [
    "# clases abstractas en Python"
   ]
  },
  {
   "cell_type": "code",
   "execution_count": 212,
   "metadata": {},
   "outputs": [],
   "source": [
    "from abc import ABC, abstractmethod\n",
    "\n",
    "class Vehiculo(ABC): # clase abs\n",
    "\n",
    "    @abstractmethod\n",
    "    def numero_ruedas(self):\n",
    "        pass\n",
    "\n",
    "    @abstractmethod\n",
    "    def describir(self):\n",
    "        pass\n",
    "\n",
    "class Bicicleta(Vehiculo):\n",
    "    \n",
    "    def numero_ruedas(self):\n",
    "        return 2\n",
    "\n",
    "    def describir(self):\n",
    "        return \"Una bicicleta con 2 ruedas.\"\n",
    "\n",
    "class Coche(Vehiculo):\n",
    "    \n",
    "    def numero_ruedas(self):\n",
    "        return 4\n",
    "\n",
    "    def describir(self):\n",
    "        return \"Un coche con 4 ruedas.\"\n",
    "\n",
    "class Motocicleta(Bicicleta):  # Nota que la motocicleta hereda de bicicleta en este caso\n",
    "    \n",
    "    def describir(self):\n",
    "        return \"Una motocicleta con 2 ruedas.\"\n"
   ]
  },
  {
   "cell_type": "code",
   "execution_count": 213,
   "metadata": {},
   "outputs": [
    {
     "name": "stdout",
     "output_type": "stream",
     "text": [
      "Una bicicleta con 2 ruedas.\n"
     ]
    }
   ],
   "source": [
    "# Creando objetos\n",
    "bici = Bicicleta()\n",
    "print(bici.describir())\n"
   ]
  },
  {
   "cell_type": "code",
   "execution_count": 214,
   "metadata": {},
   "outputs": [
    {
     "name": "stdout",
     "output_type": "stream",
     "text": [
      "Un coche con 4 ruedas.\n"
     ]
    }
   ],
   "source": [
    "carro = Coche()\n",
    "print(carro.describir())"
   ]
  },
  {
   "cell_type": "code",
   "execution_count": 215,
   "metadata": {},
   "outputs": [
    {
     "name": "stdout",
     "output_type": "stream",
     "text": [
      "Una motocicleta con 2 ruedas.\n"
     ]
    }
   ],
   "source": [
    "moto = Motocicleta()\n",
    "print(moto.describir())"
   ]
  },
  {
   "cell_type": "code",
   "execution_count": 216,
   "metadata": {},
   "outputs": [
    {
     "ename": "TypeError",
     "evalue": "Can't instantiate abstract class Vehiculo with abstract methods describir, numero_ruedas",
     "output_type": "error",
     "traceback": [
      "\u001b[1;31m---------------------------------------------------------------------------\u001b[0m",
      "\u001b[1;31mTypeError\u001b[0m                                 Traceback (most recent call last)",
      "\u001b[1;32m<ipython-input-216-fcea1e6ce759>\u001b[0m in \u001b[0;36m<module>\u001b[1;34m\u001b[0m\n\u001b[0;32m      1\u001b[0m \u001b[1;31m# Intentar crear un objeto de la clase Vehiculo arrojará un error\u001b[0m\u001b[1;33m\u001b[0m\u001b[1;33m\u001b[0m\u001b[1;33m\u001b[0m\u001b[0m\n\u001b[1;32m----> 2\u001b[1;33m \u001b[0mvehiculo\u001b[0m \u001b[1;33m=\u001b[0m \u001b[0mVehiculo\u001b[0m\u001b[1;33m(\u001b[0m\u001b[1;33m)\u001b[0m  \u001b[1;31m# TypeError: Can't instantiate abstract class Vehiculo with abstract methods describir, numero_ruedas\u001b[0m\u001b[1;33m\u001b[0m\u001b[1;33m\u001b[0m\u001b[0m\n\u001b[0m",
      "\u001b[1;31mTypeError\u001b[0m: Can't instantiate abstract class Vehiculo with abstract methods describir, numero_ruedas"
     ]
    }
   ],
   "source": [
    "# Intentar crear un objeto de la clase Vehiculo arrojará un error\n",
    "vehiculo = Vehiculo()  # TypeError: Can't instantiate abstract class Vehiculo with abstract methods describir, numero_ruedas"
   ]
  },
  {
   "cell_type": "markdown",
   "metadata": {},
   "source": [
    "# Ejemplo "
   ]
  },
  {
   "cell_type": "markdown",
   "metadata": {},
   "source": [
    "queremos modelar un sistema para una tienda minorista (retail) que vende diferentes tipos de productos. Vamos a construir una jerarquía de clases utilizando clases abstractas para representar diferentes categorías de productos."
   ]
  },
  {
   "cell_type": "code",
   "execution_count": 217,
   "metadata": {},
   "outputs": [],
   "source": [
    "from abc import ABC, abstractmethod\n",
    "\n",
    "# Clase abstracta Producto\n",
    "class Producto(ABC):\n",
    "\n",
    "    def __init__(self, id_producto, nombre, precio):\n",
    "        self.id_producto = id_producto\n",
    "        self.nombre = nombre\n",
    "        self.precio = precio\n",
    "\n",
    "    @abstractmethod\n",
    "    def calcular_descuento(self):\n",
    "        pass\n",
    "\n",
    "    def __str__(self):\n",
    "        return f\"{self.nombre} - ${self.precio}\"\n",
    "\n",
    "\n",
    "# Clase concreta Ropa\n",
    "class Ropa(Producto):\n",
    "\n",
    "    def __init__(self, id_producto, nombre, precio, talla, marca):\n",
    "        super().__init__(id_producto, nombre, precio)\n",
    "        self.talla = talla\n",
    "        self.marca = marca\n",
    "\n",
    "    def calcular_descuento(self):\n",
    "        # Imaginemos un descuento del 10% para la ropa\n",
    "        return self.precio * 0.90\n",
    "\n",
    "\n",
    "# Clase concreta Electronico\n",
    "class Electronico(Producto):\n",
    "\n",
    "    def __init__(self, id_producto, nombre, precio, marca, garantia_meses):\n",
    "        super().__init__(id_producto, nombre, precio)\n",
    "        self.marca = marca\n",
    "        self.garantia_meses = garantia_meses\n",
    "\n",
    "    def calcular_descuento(self):\n",
    "        # Descuento del 5% para electrónicos\n",
    "        return self.precio * 0.95\n",
    "\n",
    "\n",
    "# Clase concreta Alimento\n",
    "class Alimento(Producto):\n",
    "\n",
    "    def __init__(self, id_producto, nombre, precio, fecha_expiracion):\n",
    "        super().__init__(id_producto, nombre, precio)\n",
    "        self.fecha_expiracion = fecha_expiracion\n",
    "\n",
    "    def calcular_descuento(self):\n",
    "        # No hay descuentos para alimentos en este ejemplo\n",
    "        return self.precio\n"
   ]
  },
  {
   "cell_type": "code",
   "execution_count": 218,
   "metadata": {},
   "outputs": [],
   "source": [
    "# Uso de las clases\n",
    "camiseta = Ropa(1, \"Camiseta Nike\", 30.00, \"M\", \"Nike\")\n",
    "celular = Electronico(2, \"iPhone 13\", 1000.00, \"Apple\", 12)\n",
    "queso = Alimento(3, \"Queso Gouda\", 10.00, \"2023-12-01\")"
   ]
  },
  {
   "cell_type": "code",
   "execution_count": 219,
   "metadata": {},
   "outputs": [
    {
     "name": "stdout",
     "output_type": "stream",
     "text": [
      "Camiseta Nike - $30.0\n",
      "Precio con descuento: $27.0\n"
     ]
    }
   ],
   "source": [
    "print(camiseta)\n",
    "print(f\"Precio con descuento: ${camiseta.calcular_descuento()}\")"
   ]
  },
  {
   "cell_type": "code",
   "execution_count": 220,
   "metadata": {},
   "outputs": [
    {
     "name": "stdout",
     "output_type": "stream",
     "text": [
      "iPhone 13 - $1000.0\n",
      "Precio con descuento: $950.0\n"
     ]
    }
   ],
   "source": [
    "print(celular)\n",
    "print(f\"Precio con descuento: ${celular.calcular_descuento()}\")"
   ]
  },
  {
   "cell_type": "code",
   "execution_count": 221,
   "metadata": {},
   "outputs": [
    {
     "name": "stdout",
     "output_type": "stream",
     "text": [
      "Queso Gouda - $10.0\n",
      "Precio con descuento: $10.0\n"
     ]
    }
   ],
   "source": [
    "print(queso)\n",
    "print(f\"Precio con descuento: ${queso.calcular_descuento()}\")"
   ]
  },
  {
   "cell_type": "code",
   "execution_count": 222,
   "metadata": {},
   "outputs": [
    {
     "ename": "TypeError",
     "evalue": "Can't instantiate abstract class Producto with abstract methods calcular_descuento",
     "output_type": "error",
     "traceback": [
      "\u001b[1;31m---------------------------------------------------------------------------\u001b[0m",
      "\u001b[1;31mTypeError\u001b[0m                                 Traceback (most recent call last)",
      "\u001b[1;32m<ipython-input-222-3c3d8bca4ee0>\u001b[0m in \u001b[0;36m<module>\u001b[1;34m\u001b[0m\n\u001b[1;32m----> 1\u001b[1;33m \u001b[0mproducto\u001b[0m \u001b[1;33m=\u001b[0m \u001b[0mProducto\u001b[0m\u001b[1;33m(\u001b[0m\u001b[1;34m'01'\u001b[0m\u001b[1;33m,\u001b[0m\u001b[1;34m'martillo'\u001b[0m\u001b[1;33m,\u001b[0m \u001b[1;36m55\u001b[0m\u001b[1;33m)\u001b[0m\u001b[1;33m\u001b[0m\u001b[1;33m\u001b[0m\u001b[0m\n\u001b[0m",
      "\u001b[1;31mTypeError\u001b[0m: Can't instantiate abstract class Producto with abstract methods calcular_descuento"
     ]
    }
   ],
   "source": [
    "producto = Producto('01','martillo', 55)"
   ]
  },
  {
   "cell_type": "markdown",
   "metadata": {},
   "source": [
    "La clase Producto es una clase abstracta que representa un producto genérico vendido en la tienda. Tiene un método abstracto calcular_descuento que las clases concretas (subclases) deben implementar.\n",
    "\n",
    "Las clases Ropa, Electronico y Alimento son clases concretas que heredan de Producto y representan diferentes categorías de productos en la tienda. Cada una tiene sus propios atributos específicos y su propia implementación del método calcular_descuento.\n",
    "\n",
    "Con este diseño, es fácil agregar más categorías de productos en el futuro y garantizar que todas tengan una estructura y comportamiento consistentes gracias a la clase abstracta Producto."
   ]
  },
  {
   "cell_type": "markdown",
   "metadata": {},
   "source": [
    "# Principios solid"
   ]
  },
  {
   "cell_type": "markdown",
   "metadata": {},
   "source": [
    "## Single Responsibility Principle (SRP)"
   ]
  },
  {
   "cell_type": "markdown",
   "metadata": {},
   "source": [
    "El primer principio de SOLID llamado Principio de Responsabilidad Única indica que una clase debería ser responsable de una única funcionalidad. En otras palabras, la clase solo debería tener una única razón para cambiar. En el siguiente ejemplo sencillo se define una clase Duck con 5 diferentes métodos."
   ]
  },
  {
   "cell_type": "code",
   "execution_count": 2,
   "metadata": {},
   "outputs": [],
   "source": [
    "# Incorrecto\n",
    "class User:\n",
    "    def __init__(self, name: str):\n",
    "        self.name = name\n",
    "\n",
    "    def get_user_data(self):\n",
    "        pass  # fetch user data from database\n",
    "\n",
    "    def save_user_data(self):\n",
    "        pass  # save user data to database\n",
    "\n",
    "\n"
   ]
  },
  {
   "cell_type": "code",
   "execution_count": 3,
   "metadata": {},
   "outputs": [],
   "source": [
    "# Correcto\n",
    "class User:\n",
    "    def __init__(self, name: str):\n",
    "        self.name = name\n",
    "\n",
    "class UserDataBase:\n",
    "    def get_user_data(self, user: User):\n",
    "        pass\n",
    "\n",
    "    def save_user_data(self, user: User):\n",
    "        pass"
   ]
  },
  {
   "cell_type": "markdown",
   "metadata": {},
   "source": [
    "## Esta clase OnlineStore tiene múltiples responsabilidades:\n",
    "\n",
    "Gestión de inventario (purchase_product y restock_inventory).\n",
    "Envío de correos electrónicos (send_email_to_user).\n",
    "Comparación de precios con competencia (check_external_price)."
   ]
  },
  {
   "cell_type": "code",
   "execution_count": 4,
   "metadata": {},
   "outputs": [],
   "source": [
    "import requests\n",
    "\n",
    "class OnlineStore:\n",
    "    \n",
    "    def __init__(self, product_name, product_price, user_email):\n",
    "        self.product_name = product_name\n",
    "        self.product_price = product_price\n",
    "        self.user_email = user_email\n",
    "        self.inventory = 10\n",
    "\n",
    "    def purchase_product(self, quantity):\n",
    "        if self.inventory >= quantity:\n",
    "            self.inventory -= quantity\n",
    "            self.send_email_to_user()\n",
    "        else:\n",
    "            print(\"No hay suficiente inventario.\")\n",
    "\n",
    "    def send_email_to_user(self):\n",
    "        print(f\"Enviando email a {self.user_email} confirmando la compra de {self.product_name}...\")\n",
    "\n",
    "    def restock_inventory(self, new_stock):\n",
    "        self.inventory += new_stock\n",
    "        print(f\"Nuevo inventario: {self.inventory} unidades\")\n",
    "\n",
    "    def check_external_price(self, external_url):\n",
    "        response = requests.get(external_url)\n",
    "        external_price = float(response.json().get(\"price\"))\n",
    "        \n",
    "        if self.product_price > external_price:\n",
    "            print(f\"El precio en {external_url} es más bajo. Considera ajustar tu precio.\")\n",
    "        else:\n",
    "            print(f\"El precio es competitivo en comparación con {external_url}.\")\n",
    "\n"
   ]
  },
  {
   "cell_type": "markdown",
   "metadata": {},
   "source": [
    "Cada una de estas responsabilidades debería estar en su propia clase para respetar el principio de responsabilidad única. Por ejemplo, podríamos tener una clase InventoryManager, una clase EmailService y una clase PriceChecker. Al tener todas estas responsabilidades en una sola clase, cualquier cambio en una de las responsabilidades (por ejemplo, cómo se envían los correos electrónicos o cómo se comprueban los precios) podría afectar a las demás, lo que hace que la clase sea menos mantenible y más susceptible a errores."
   ]
  },
  {
   "cell_type": "markdown",
   "metadata": {},
   "source": [
    "## Refactorizar"
   ]
  },
  {
   "cell_type": "markdown",
   "metadata": {},
   "source": [
    "#### Segun el Single Responsibility Principle (SRP)"
   ]
  },
  {
   "cell_type": "markdown",
   "metadata": {},
   "source": [
    "Descomponer el código original en diferentes clases, cada una con una responsabilidad específica:\n",
    "\n",
    "InventoryManager: Gestiona el inventario de productos.\n",
    "EmailService: Se encarga del envío de correos electrónicos.\n",
    "PriceChecker: Compara precios con competidores.\n",
    "Vamos a refactorear el código:"
   ]
  },
  {
   "cell_type": "code",
   "execution_count": 42,
   "metadata": {},
   "outputs": [],
   "source": [
    "import requests\n",
    "\n",
    "class InventoryManager:\n",
    "    def __init__(self, product_name, product_price):\n",
    "        self.product_name = product_name\n",
    "        self.product_price = product_price\n",
    "        self.inventory = 10\n",
    "\n",
    "    def purchase_product(self, quantity):\n",
    "        if self.inventory >= quantity:\n",
    "            self.inventory -= quantity\n",
    "            return True\n",
    "        else:\n",
    "            print(\"No hay suficiente inventario.\")\n",
    "            return False\n",
    "\n",
    "    def restock_inventory(self, new_stock):\n",
    "        self.inventory += new_stock\n",
    "        print(f\"Nuevo inventario: {self.inventory} unidades\")\n",
    "\n",
    "class EmailService:\n",
    "    def __init__(self, user_email):\n",
    "        self.user_email = user_email\n",
    "\n",
    "    def send_email_to_user(self, product_name):\n",
    "        print(f\"Enviando email a {self.user_email} confirmando la compra de {product_name}...\")\n",
    "\n",
    "class PriceChecker:\n",
    "    def __init__(self, product_price):\n",
    "        self.product_price = product_price\n",
    "\n",
    "    def check_external_price(self, external_url):\n",
    "        response = requests.get(external_url)\n",
    "        external_price = float(response.json().get(\"price\"))\n",
    "        \n",
    "        if self.product_price > external_price:\n",
    "            print(f\"El precio en {external_url} es más bajo. Considera ajustar tu precio.\")\n",
    "        else:\n",
    "            print(f\"El precio es competitivo en comparación con {external_url}.\")\n",
    "\n",
    "\n"
   ]
  },
  {
   "cell_type": "code",
   "execution_count": 44,
   "metadata": {},
   "outputs": [
    {
     "name": "stdout",
     "output_type": "stream",
     "text": [
      "Enviando email a usuario@example.com confirmando la compra de ProductoEjemplo...\n"
     ]
    }
   ],
   "source": [
    "# Uso de las clases:\n",
    "\n",
    "product_name = \"ProductoEjemplo\"\n",
    "product_price = 100.0\n",
    "user_email = \"usuario@example.com\"\n",
    "\n",
    "inventory_manager = InventoryManager(product_name, product_price)\n",
    "email_service = EmailService(user_email)\n",
    "price_checker = PriceChecker(product_price)\n",
    "\n",
    "# Ejemplo de compra:\n",
    "if inventory_manager.purchase_product(3):\n",
    "    email_service.send_email_to_user(product_name)\n",
    "\n",
    "# Ejemplo de chequeo de precios:\n",
    "# price_checker.check_external_price(\"https://api.externa.com/precio\")\n"
   ]
  },
  {
   "cell_type": "markdown",
   "metadata": {},
   "source": [
    "Ahora, cada clase tiene su propia responsabilidad y si en el futuro deseas cambiar cómo se gestiona el inventario, cómo se envían los correos electrónicos o cómo se comprueban los precios, puedes hacerlo en la respectiva clase sin afectar las demás clases. Esto hace que el código sea más modular y fácil de manten"
   ]
  },
  {
   "cell_type": "markdown",
   "metadata": {},
   "source": [
    "### Aplicado a una función."
   ]
  },
  {
   "cell_type": "code",
   "execution_count": 45,
   "metadata": {},
   "outputs": [],
   "source": [
    "# Violación del SRP en una función:\n",
    "\n",
    "def process_data_and_save_to_file(data):\n",
    "    # Procesamiento de datos\n",
    "    processed_data = [d * 2 for d in data] # Simula alguna operación de procesamiento\n",
    "\n",
    "    # Guardar datos procesados en un archivo\n",
    "    with open('data.txt', 'w') as file:\n",
    "        for d in processed_data:\n",
    "            file.write(str(d) + '\\n')\n",
    "            \n",
    "# La función anterior tiene dos responsabilidades: procesar los datos y guardarlos en un archivo"
   ]
  },
  {
   "cell_type": "code",
   "execution_count": 46,
   "metadata": {},
   "outputs": [],
   "source": [
    "# Con esta refactorización, cada función tiene una única responsabilidad, \n",
    "# lo que facilita la prueba, el mantenimiento y la comprensión del código.\n",
    "\n",
    "def process_data(data):\n",
    "    # Procesamiento de datos\n",
    "    return [d * 2 for d in data]\n",
    "\n",
    "def save_to_file(data, filename):\n",
    "    # Guardar datos en un archivo\n",
    "    with open(filename, 'w') as file:\n",
    "        for d in data:\n",
    "            file.write(str(d) + '\\n')\n",
    "\n",
    "# Uso de las funciones\n",
    "data = [1, 2, 3, 4]\n",
    "processed_data = process_data(data)\n",
    "save_to_file(processed_data, 'data.txt')"
   ]
  },
  {
   "cell_type": "markdown",
   "metadata": {},
   "source": [
    "# ejemplo database sqlite"
   ]
  },
  {
   "cell_type": "code",
   "execution_count": 47,
   "metadata": {},
   "outputs": [],
   "source": [
    "import sqlite3\n",
    "from abc import ABC, abstractmethod\n",
    "import pandas as pd\n",
    "\n",
    "def password_required(func):\n",
    "    \"\"\"Decorator to require a password before executing a function.\"\"\"\n",
    "    def wrapper(*args, **kwargs):\n",
    "        password = input(\"Please enter the database password: \")\n",
    "        if password == 'titan123':\n",
    "            return func(*args, **kwargs)\n",
    "        else:\n",
    "            print(\"Incorrect password!\")\n",
    "            return None\n",
    "    return wrapper\n",
    "\n",
    "class Database(ABC):\n",
    "    \"\"\"Abstract class representing a database.\"\"\"\n",
    "\n",
    "    @abstractmethod\n",
    "    def save(self, data):\n",
    "        \"\"\"Save data to the database.\"\"\"\n",
    "        pass\n",
    "\n",
    "    @abstractmethod\n",
    "    def fetch_as_dataframe(self):\n",
    "        \"\"\"Fetch all records from the database and return them as a DataFrame.\"\"\"\n",
    "        pass\n",
    "\n",
    "class SQLiteDatabase(Database):\n",
    "    \"\"\"SQLite database implementation.\"\"\"\n",
    "\n",
    "    def __init__(self, db_name):\n",
    "        \"\"\"Initialize the SQLite database with a given name.\"\"\"\n",
    "        self._db_name = db_name\n",
    "        self._connection = None\n",
    "        self._connect()\n",
    "        self._create_table()\n",
    "\n",
    "    @password_required\n",
    "    def _connect(self):\n",
    "        \"\"\"Establish a connection to the SQLite database.\"\"\"\n",
    "        self._connection = sqlite3.connect(self._db_name)\n",
    "\n",
    "    def _create_table(self):\n",
    "        \"\"\"Create the customers table if not present.\"\"\"\n",
    "        with self._connection:\n",
    "            self._connection.execute(\"\"\"\n",
    "            CREATE TABLE IF NOT EXISTS customers (\n",
    "                id INTEGER PRIMARY KEY,\n",
    "                name TEXT NOT NULL,\n",
    "                email TEXT NOT NULL,\n",
    "                plan TEXT NOT NULL,\n",
    "                age INTEGER\n",
    "            );\n",
    "            \"\"\")\n",
    "\n",
    "    def save(self, customer):\n",
    "        \"\"\"Save a customer's data to the SQLite database.\"\"\"\n",
    "        with self._connection:\n",
    "            self._connection.execute(\n",
    "                \"INSERT INTO customers (name, email, plan, age) VALUES (?, ?, ?, ?)\",\n",
    "                (customer.name, customer.email, customer.plan, customer.age))\n",
    "\n",
    "    def fetch_as_dataframe(self):\n",
    "        \"\"\"Fetch all records and return them as a DataFrame.\"\"\"\n",
    "        return pd.read_sql(\"SELECT * FROM customers\", self._connection)\n",
    "\n",
    "class Customer(ABC):\n",
    "    \"\"\"Abstract base class for a customer.\"\"\"\n",
    "\n",
    "    def __init__(self, name, email, age):\n",
    "        \"\"\"Initialize the customer with personal attributes.\"\"\"\n",
    "        self._name = name\n",
    "        self._email = email\n",
    "        self._age = age\n",
    "\n",
    "    @property\n",
    "    def name(self):\n",
    "        return self._name\n",
    "\n",
    "    @property\n",
    "    def email(self):\n",
    "        return self._email\n",
    "\n",
    "    @property\n",
    "    def age(self):\n",
    "        return self._age\n",
    "\n",
    "    @property\n",
    "    @abstractmethod\n",
    "    def plan(self):\n",
    "        pass\n",
    "\n",
    "class BasicCustomer(Customer):\n",
    "    \"\"\"Basic customer implementation.\"\"\"\n",
    "    \n",
    "    @property\n",
    "    def plan(self):\n",
    "        return \"Basic\"\n",
    "\n",
    "class PremiumCustomer(Customer):\n",
    "    \"\"\"Premium customer implementation.\"\"\"\n",
    "    \n",
    "    @property\n",
    "    def plan(self):\n",
    "        return \"Premium\"\n",
    "\n"
   ]
  },
  {
   "cell_type": "markdown",
   "metadata": {},
   "source": [
    "\n",
    "Explicación:\n",
    "Principio de Responsabilidad Única: Las clases Database y Customer tienen responsabilidades únicas. Database gestiona la conexión a la base de datos y la obtención de dataframes, mientras que Customer gestiona la información y visualización de los clientes.\n",
    "\n",
    "Herencia: SQLiteDatabase hereda de Database y BasicCustomer y PremiumCustomer heredan de Customer.\n",
    "\n",
    "Clases Abstractas: Database y Customer son clases abstractas que definen las firmas de los métodos pero no su implementación.\n",
    "\n",
    "Decoradores: El decorador require_password se utiliza para añadir una capa de seguridad adicional antes de conectar a la base de datos.\n",
    "\n",
    "Encapsulamiento: Las variables internas (como _db_path, _name, _premium_code) están encapsuladas para evitar el acceso directo desde fuera de la clase.\n",
    "\n",
    "Polimorfismo: BasicCustomer y PremiumCustomer tienen diferentes implementaciones del método display(), lo que demuestra polimorfismo.\n",
    "\n",
    "\n",
    "\n",
    "\n",
    "\n",
    "Regenerate\n"
   ]
  },
  {
   "cell_type": "code",
   "execution_count": 12,
   "metadata": {},
   "outputs": [
    {
     "name": "stdout",
     "output_type": "stream",
     "text": [
      "Please enter the database password: titan123\n"
     ]
    }
   ],
   "source": [
    "# Implementation:\n",
    "\n",
    "# Initialize the SQLite database\n",
    "database = SQLiteDatabase(\"customers.db\")\n"
   ]
  },
  {
   "cell_type": "code",
   "execution_count": 16,
   "metadata": {},
   "outputs": [],
   "source": [
    "# Create customers\n",
    "alice = BasicCustomer(\"Cris\", \"cri@email.com\", 45)\n",
    "bob = PremiumCustomer(\"jorg\", \"jor@email.com\", 36)"
   ]
  },
  {
   "cell_type": "code",
   "execution_count": 17,
   "metadata": {},
   "outputs": [],
   "source": [
    "# Save customers to the database\n",
    "database.save(alice)\n",
    "database.save(bob)"
   ]
  },
  {
   "cell_type": "code",
   "execution_count": 18,
   "metadata": {},
   "outputs": [
    {
     "data": {
      "text/html": [
       "<div>\n",
       "<style scoped>\n",
       "    .dataframe tbody tr th:only-of-type {\n",
       "        vertical-align: middle;\n",
       "    }\n",
       "\n",
       "    .dataframe tbody tr th {\n",
       "        vertical-align: top;\n",
       "    }\n",
       "\n",
       "    .dataframe thead th {\n",
       "        text-align: right;\n",
       "    }\n",
       "</style>\n",
       "<table border=\"1\" class=\"dataframe\">\n",
       "  <thead>\n",
       "    <tr style=\"text-align: right;\">\n",
       "      <th></th>\n",
       "      <th>id</th>\n",
       "      <th>name</th>\n",
       "      <th>email</th>\n",
       "      <th>plan</th>\n",
       "      <th>age</th>\n",
       "    </tr>\n",
       "  </thead>\n",
       "  <tbody>\n",
       "    <tr>\n",
       "      <th>0</th>\n",
       "      <td>1</td>\n",
       "      <td>Alice</td>\n",
       "      <td>alice@email.com</td>\n",
       "      <td>Basic</td>\n",
       "      <td>28</td>\n",
       "    </tr>\n",
       "    <tr>\n",
       "      <th>1</th>\n",
       "      <td>2</td>\n",
       "      <td>Bob</td>\n",
       "      <td>bob@email.com</td>\n",
       "      <td>Premium</td>\n",
       "      <td>35</td>\n",
       "    </tr>\n",
       "    <tr>\n",
       "      <th>2</th>\n",
       "      <td>3</td>\n",
       "      <td>Cris</td>\n",
       "      <td>cri@email.com</td>\n",
       "      <td>Basic</td>\n",
       "      <td>45</td>\n",
       "    </tr>\n",
       "    <tr>\n",
       "      <th>3</th>\n",
       "      <td>4</td>\n",
       "      <td>jorg</td>\n",
       "      <td>jor@email.com</td>\n",
       "      <td>Premium</td>\n",
       "      <td>36</td>\n",
       "    </tr>\n",
       "  </tbody>\n",
       "</table>\n",
       "</div>"
      ],
      "text/plain": [
       "   id   name            email     plan  age\n",
       "0   1  Alice  alice@email.com    Basic   28\n",
       "1   2    Bob    bob@email.com  Premium   35\n",
       "2   3   Cris    cri@email.com    Basic   45\n",
       "3   4   jorg    jor@email.com  Premium   36"
      ]
     },
     "execution_count": 18,
     "metadata": {},
     "output_type": "execute_result"
    }
   ],
   "source": [
    "# Fetch and print data as DataFrame\n",
    "df = database.fetch_as_dataframe()\n",
    "df"
   ]
  },
  {
   "cell_type": "markdown",
   "metadata": {},
   "source": [
    "## Open/Closed Principle (OCP):"
   ]
  },
  {
   "cell_type": "markdown",
   "metadata": {},
   "source": [
    "Descripción: Las entidades de software (clases, módulos, funciones) deben estar abiertas para extensión pero cerradas para modificación.\n",
    "Aplicación en Python: Usar herencia y composición para extender las funcionalidades sin modificar las clases existentes."
   ]
  },
  {
   "cell_type": "markdown",
   "metadata": {},
   "source": [
    "Esto significa que el comportamiento de un módulo puede extenderse sin modificar su código fuente"
   ]
  },
  {
   "cell_type": "markdown",
   "metadata": {},
   "source": [
    "#### OCP a una clase que modele un inventario en Python:"
   ]
  },
  {
   "cell_type": "markdown",
   "metadata": {},
   "source": [
    "### Explicación:\n",
    "InventoryItem: Esta es una clase abstracta que representa un artículo genérico en el inventario. Define un método abstracto get_price que todas las subclases concretas deben implementar.\n",
    "\n",
    "Book y Electronic: Estas son subclases concretas de InventoryItem. Cada una implementa el método get_price de su manera particular.\n",
    "\n",
    "Inventory: Representa el inventario. Contiene una lista de InventoryItem y métodos para añadir artículos y calcular el valor total del inventario.\n",
    "\n",
    "Este diseño sigue el OCP porque si deseas añadir un nuevo tipo de artículo al inventario (por ejemplo, ropa, vehículos, etc.), simplemente debes crear una nueva subclase de InventoryItem y no es necesario modificar ninguna de las clases existentes. De esta manera, el código es \"abierto\" para extensión (añadir nuevos tipos de artículos) pero \"cerrado\" para modificación (no es necesario modificar el código existente)."
   ]
  },
  {
   "cell_type": "code",
   "execution_count": 51,
   "metadata": {},
   "outputs": [],
   "source": [
    "from abc import ABC, abstractmethod\n",
    "from typing import List, Dict\n",
    "\n",
    "# Creamos una clase abstracta para los items del inventario\n",
    "class InventoryItem(ABC):\n",
    "\n",
    "    @abstractmethod\n",
    "    def get_price(self) -> float:\n",
    "        pass\n",
    "\n",
    "class Inventory:\n",
    "    def __init__(self):\n",
    "        self._items: List[InventoryItem] = []\n",
    "\n",
    "    def add_item(self, item: InventoryItem):\n",
    "        self._items.append(item)\n",
    "\n",
    "    def total_value(self) -> float:\n",
    "        return sum(item.get_price() for item in self._items)\n",
    "    \n",
    "class Book(InventoryItem):\n",
    "    def __init__(self, title: str, price: float):\n",
    "        self._title = title\n",
    "        self._price = price\n",
    "\n",
    "    def get_price(self) -> float:\n",
    "        return self._price\n",
    "\n",
    "class Electronic(InventoryItem):\n",
    "    def __init__(self, brand: str, price: float):\n",
    "        self._brand = brand\n",
    "        self._price = price\n",
    "\n",
    "    def get_price(self) -> float:\n",
    "        return self._price\n",
    "    \n",
    "class Gardening(InventoryItem):\n",
    "    def __init__(self, name: str, price: float):\n",
    "        self._name = name\n",
    "        self._price = price\n",
    "\n",
    "    def get_price(self) -> float:\n",
    "        return self._price\n"
   ]
  },
  {
   "cell_type": "code",
   "execution_count": 52,
   "metadata": {},
   "outputs": [],
   "source": [
    "# Uso:\n",
    "\n",
    "inventory = Inventory()\n",
    "libro_1   = Book(\"El Principito\", 20.0)\n",
    "celular_1 = Electronic(\"iPhone\", 1000.0)\n",
    "planta = Gardening('rosa', 20)\n"
   ]
  },
  {
   "cell_type": "code",
   "execution_count": 53,
   "metadata": {},
   "outputs": [
    {
     "name": "stdout",
     "output_type": "stream",
     "text": [
      "Total value of inventory: $1040.0\n"
     ]
    }
   ],
   "source": [
    "\n",
    "inventory.add_item(Book(\"El Principito\", 20.0))\n",
    "inventory.add_item(Electronic(\"iPhone\", 1000.0))\n",
    "inventory.add_item(Gardening('rosa', 20))\n",
    "\n",
    "print(f\"Total value of inventory: ${inventory.total_value()}\")"
   ]
  },
  {
   "cell_type": "code",
   "execution_count": null,
   "metadata": {},
   "outputs": [],
   "source": []
  },
  {
   "cell_type": "code",
   "execution_count": null,
   "metadata": {},
   "outputs": [],
   "source": []
  },
  {
   "cell_type": "code",
   "execution_count": null,
   "metadata": {},
   "outputs": [],
   "source": []
  },
  {
   "cell_type": "code",
   "execution_count": null,
   "metadata": {},
   "outputs": [],
   "source": []
  },
  {
   "cell_type": "code",
   "execution_count": null,
   "metadata": {},
   "outputs": [],
   "source": []
  },
  {
   "cell_type": "code",
   "execution_count": null,
   "metadata": {},
   "outputs": [],
   "source": []
  },
  {
   "cell_type": "code",
   "execution_count": null,
   "metadata": {},
   "outputs": [],
   "source": []
  },
  {
   "cell_type": "code",
   "execution_count": null,
   "metadata": {},
   "outputs": [],
   "source": [
    "# Supongamos que tenemos una tienda que calcula descuentos en diferentes tipos de productos.\n",
    "\n",
    "class Product:\n",
    "    def __init__(self, name, category, price):\n",
    "        self.name = name\n",
    "        self.category = category\n",
    "        self.price = price\n",
    "\n",
    "class DiscountCalculator:\n",
    "    def calculate_discount(self, product):\n",
    "        if product.category == \"A\":\n",
    "            return product.price * 0.1\n",
    "        elif product.category == \"B\":\n",
    "            return product.price * 0.2\n",
    "        \n",
    "# Si desearas agregar un nuevo tipo de descuento para una categoría adicional, \n",
    "# tendrías que modificar la clase DiscountCalculator y añadir otro condicional. Esto viola el OCP.\n",
    "\n"
   ]
  },
  {
   "cell_type": "code",
   "execution_count": null,
   "metadata": {},
   "outputs": [],
   "source": [
    "# Para adherirnos al OCP, podemos reestructurar el diseño utilizando clases y herencia:\n",
    "\n",
    "from abc import ABC, abstractmethod\n",
    "\n",
    "class Product:\n",
    "    def __init__(self, name, price):\n",
    "        self.name = name\n",
    "        self.price = price\n",
    "\n",
    "class Discount(ABC):\n",
    "    @abstractmethod\n",
    "    def calculate_discount(self, product):\n",
    "        pass\n",
    "\n",
    "class CategoryADiscount(Discount):\n",
    "    def calculate_discount(self, product):\n",
    "        return product.price * 0.1\n",
    "\n",
    "class CategoryBDiscount(Discount):\n",
    "    def calculate_discount(self, product):\n",
    "        return product.price * 0.2\n",
    "\n",
    "class DiscountCalculator:\n",
    "    def __init__(self, discount_strategy):\n",
    "        self.discount_strategy = discount_strategy\n",
    "\n",
    "    def apply_discount(self, product):\n",
    "        return self.discount_strategy.calculate_discount(product)\n"
   ]
  },
  {
   "cell_type": "markdown",
   "metadata": {},
   "source": [
    "Explicación:\n",
    "\n",
    "Hemos definido una interfaz abstracta Discount que establece un contrato para todas las clases de descuento. Cualquier nueva clase de descuento solo tiene que implementar esta interfaz para ser considerada una estrategia de descuento válida.\n",
    "\n",
    "DiscountCalculator ahora tiene una dependencia inyectada llamada discount_strategy, que es cualquier objeto que implemente la interfaz Discount. Esta clase ya no necesita saber los detalles de cómo se calculan los descuentos; simplemente llama al método calculate_discount de la estrategia proporcionada.\n",
    "\n",
    "Al separar las responsabilidades y usar composición sobre herencia en ciertos lugares, hemos creado un sistema que puede extenderse fácilmente sin modificar el código existente. Por ejemplo, para añadir un descuento para la categoría C, simplemente crearíamos una nueva clase CategoryCDiscount que implemente Discount y no tendríamos que cambiar nada más en nuestro código.\n",
    "\n",
    "Este diseño se adhiere al OCP porque hemos cerrado DiscountCalculator a modificaciones (no necesitamos cambiarlo para agregar nuevos descuentos) pero lo hemos dejado abierto a extensiones (podemos añadir fácilmente nuevos tipos de descuentos)."
   ]
  },
  {
   "cell_type": "markdown",
   "metadata": {},
   "source": [
    "## El Liskov Substitution Principle (LSP) o Principio de Sustitución de Liskov "
   ]
  },
  {
   "cell_type": "markdown",
   "metadata": {},
   "source": [
    "¡Claro! Vamos a usar el Principio de Sustitución de Liskov (LSP) en un contexto de ventas. Imagina que tienes una tienda y vendes diferentes tipos de productos. Vamos a modelar dos clases: Producto y ProductoDescuento, donde ProductoDescuento es una subclase especial de Producto que aplica un descuento al precio.\n",
    "\n"
   ]
  },
  {
   "cell_type": "code",
   "execution_count": null,
   "metadata": {},
   "outputs": [],
   "source": [
    "class Producto:\n",
    "    def __init__(self, nombre, precio):\n",
    "        self.nombre = nombre\n",
    "        self.precio = precio\n",
    "\n",
    "    def obtener_precio_final(self):\n",
    "        return self.precio\n",
    "\n",
    "\n",
    "class ProductoDescuento(Producto):\n",
    "    def __init__(self, nombre, precio, descuento):\n",
    "        super().__init__(nombre, precio)\n",
    "        self.descuento = descuento  # Descuento en porcentaje (0 a 100)\n",
    "\n",
    "    def obtener_precio_final(self):\n",
    "        descuento_aplicado = self.precio * (self.descuento / 100)\n",
    "        return self.precio - descuento_aplicado\n"
   ]
  },
  {
   "cell_type": "markdown",
   "metadata": {},
   "source": [
    "En este caso, ProductoDescuento es una subclase de Producto. Ambas clases tienen el método obtener_precio_final(), pero en ProductoDescuento, este método devuelve el precio del producto después de aplicar el descuento.\n",
    "\n",
    "Este diseño respeta el LSP porque un ProductoDescuento puede ser utilizado en lugar de un Producto sin romper la funcionalidad esperada del programa. Cuando se solicita el precio final de cualquier producto (con o sin descuento), se obtiene el precio correcto."
   ]
  },
  {
   "cell_type": "code",
   "execution_count": null,
   "metadata": {},
   "outputs": [],
   "source": [
    "producto_normal = Producto(\"Camiseta\", 20)\n",
    "print(producto_normal.obtener_precio_final())  # 20\n",
    "\n",
    "producto_con_descuento = ProductoDescuento(\"Pantalones\", 50, 10)  # 10% de descuento\n",
    "print(producto_con_descuento.obtener_precio_final())  # 45 (50 - 5 de descuento)\n"
   ]
  },
  {
   "cell_type": "markdown",
   "metadata": {},
   "source": [
    "## Interface Segregation Principle (ISP):\n",
    "\n",
    "Descripción: Ningún cliente debe verse obligado a depender de interfaces que no utiliza.\n",
    "Aplicación en Python: En lugar de tener una interfaz grande, es mejor tener varias interfaces específicas."
   ]
  },
  {
   "cell_type": "markdown",
   "metadata": {},
   "source": [
    "el ISP sugiere que es mejor tener interfaces (o conjuntos de métodos) específicos y separados para diferentes propósitos en lugar de uno grande que lo haga todo. De esta manera, las clases que implementan estas interfaces solo tendrán que tratar con los métodos que realmente usan, y no con otros que no necesitan."
   ]
  },
  {
   "cell_type": "markdown",
   "metadata": {},
   "source": [
    "Supongamos que tenemos una interfaz (en Python, las \"interfaces\" suelen representarse con clases abstractas) para un robot de cocina multifuncional:"
   ]
  },
  {
   "cell_type": "code",
   "execution_count": 33,
   "metadata": {},
   "outputs": [],
   "source": [
    "from abc import ABC, abstractmethod\n",
    "\n",
    "class RobotCocinaMultifuncional(ABC):\n",
    "\n",
    "    @abstractmethod\n",
    "    def mezclar(self):\n",
    "        pass\n",
    "\n",
    "    @abstractmethod\n",
    "    def tostar(self):\n",
    "        pass\n",
    "\n",
    "    @abstractmethod\n",
    "    def licuar(self):\n",
    "        pass\n"
   ]
  },
  {
   "cell_type": "markdown",
   "metadata": {},
   "source": [
    "Sin embargo, no todos los robots de cocina pueden tostar o licuar. Algunos solo mezclan. Si tuviéramos un robot básico que solo puede mezclar, aún estaríamos obligados a implementar los métodos tostar y licuar debido a la interfaz RobotCocinaMultifuncional.\n",
    "\n",
    "Para seguir el ISP, separamos esta interfaz en múltiples interfaces:"
   ]
  },
  {
   "cell_type": "code",
   "execution_count": 34,
   "metadata": {},
   "outputs": [],
   "source": [
    "class Mezclador(ABC):\n",
    "\n",
    "    @abstractmethod\n",
    "    def mezclar(self):\n",
    "        pass\n",
    "\n",
    "class Tostador(ABC):\n",
    "\n",
    "    @abstractmethod\n",
    "    def tostar(self):\n",
    "        pass\n",
    "\n",
    "class Licuadora(ABC):\n",
    "\n",
    "    @abstractmethod\n",
    "    def licuar(self):\n",
    "        pass\n"
   ]
  },
  {
   "cell_type": "markdown",
   "metadata": {},
   "source": [
    "Ahora, si tenemos un robot básico que solo mezcla, solo necesitamos implementar la interfaz Mezclador:"
   ]
  },
  {
   "cell_type": "code",
   "execution_count": 35,
   "metadata": {},
   "outputs": [],
   "source": [
    "class RobotBasicoMezclador(Mezclador):\n",
    "\n",
    "    def mezclar(self):\n",
    "        return \"Mezclando ingredientes!\"\n"
   ]
  },
  {
   "cell_type": "markdown",
   "metadata": {},
   "source": [
    "Este enfoque sigue el ISP, permitiendo que las clases implementen solo las \"interfaces\" (en este caso, clases abstractas) que realmente necesitan, sin estar sobrecargadas con métodos que no usan."
   ]
  },
  {
   "cell_type": "code",
   "execution_count": null,
   "metadata": {},
   "outputs": [],
   "source": []
  },
  {
   "cell_type": "markdown",
   "metadata": {},
   "source": [
    "## El Principio de Inversión de Dependencias (DIP) \n",
    "\n",
    "es uno de los cinco principios SOLID de diseño orientado a objetos. Establece que los módulos de alto nivel no deben depender de módulos de bajo nivel, sino que ambos deben depender de abstracciones. Además, las abstracciones no deben depender de los detalles, sino que los detalles deben depender de las abstracciones.\n",
    "\n"
   ]
  },
  {
   "cell_type": "markdown",
   "metadata": {},
   "source": [
    "Primero, vamos a definir una abstracción para un procesador de pagos:"
   ]
  },
  {
   "cell_type": "code",
   "execution_count": 36,
   "metadata": {},
   "outputs": [],
   "source": [
    "from abc import ABC, abstractmethod\n",
    "\n",
    "class PaymentProcessor(ABC):\n",
    "\n",
    "    @abstractmethod\n",
    "    def process(self, amount: float):\n",
    "        pass\n"
   ]
  },
  {
   "cell_type": "markdown",
   "metadata": {},
   "source": [
    "Luego, creamos implementaciones concretas para distintos procesadores de pagos:\n"
   ]
  },
  {
   "cell_type": "code",
   "execution_count": 37,
   "metadata": {},
   "outputs": [],
   "source": [
    "class CreditCardProcessor(PaymentProcessor):\n",
    "\n",
    "    def process(self, amount: float):\n",
    "        print(f\"Procesando pago de {amount} con tarjeta de crédito.\")\n",
    "\n",
    "class PayPalProcessor(PaymentProcessor):\n",
    "\n",
    "    def process(self, amount: float):\n",
    "        print(f\"Procesando pago de {amount} con PayPal.\")\n"
   ]
  },
  {
   "cell_type": "markdown",
   "metadata": {},
   "source": [
    "Ahora, vamos a definir la clase de alto nivel Order, que depende de la abstracción en lugar de una implementación concreta:"
   ]
  },
  {
   "cell_type": "code",
   "execution_count": 38,
   "metadata": {},
   "outputs": [],
   "source": [
    "class Order:\n",
    "\n",
    "    def __init__(self, payment_processor: PaymentProcessor):\n",
    "        self._payment_processor = payment_processor\n",
    "\n",
    "    def checkout(self, amount: float):\n",
    "        self._payment_processor.process(amount)\n"
   ]
  },
  {
   "cell_type": "code",
   "execution_count": 40,
   "metadata": {},
   "outputs": [
    {
     "name": "stdout",
     "output_type": "stream",
     "text": [
      "Procesando pago de 100.0 con tarjeta de crédito.\n",
      "Procesando pago de 200.0 con PayPal.\n"
     ]
    }
   ],
   "source": [
    "# Finalmente, podemos usar esta estructura para procesar un pedido:\n",
    "# Crear un pedido que usa tarjeta de crédito como método de pago\n",
    "order1 = Order(CreditCardProcessor())\n",
    "order1.checkout(100.0)\n",
    "\n",
    "# Crear un pedido que usa PayPal como método de pago\n",
    "order2 = Order(PayPalProcessor())\n",
    "order2.checkout(200.0)\n"
   ]
  },
  {
   "cell_type": "code",
   "execution_count": null,
   "metadata": {},
   "outputs": [],
   "source": []
  },
  {
   "cell_type": "markdown",
   "metadata": {},
   "source": [
    "https://realpython.com/solid-principles-python/"
   ]
  },
  {
   "cell_type": "markdown",
   "metadata": {},
   "source": [
    "https://refactoring.guru/es/design-patterns/python"
   ]
  },
  {
   "cell_type": "code",
   "execution_count": null,
   "metadata": {},
   "outputs": [],
   "source": []
  }
 ],
 "metadata": {
  "kernelspec": {
   "display_name": "Python 3",
   "language": "python",
   "name": "python3"
  },
  "language_info": {
   "codemirror_mode": {
    "name": "ipython",
    "version": 3
   },
   "file_extension": ".py",
   "mimetype": "text/x-python",
   "name": "python",
   "nbconvert_exporter": "python",
   "pygments_lexer": "ipython3",
   "version": "3.8.3"
  }
 },
 "nbformat": 4,
 "nbformat_minor": 4
}
