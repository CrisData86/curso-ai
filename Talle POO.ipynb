{
 "cells": [
  {
   "cell_type": "markdown",
   "metadata": {},
   "source": [
    "## Taller Poo"
   ]
  },
  {
   "cell_type": "markdown",
   "metadata": {},
   "source": [
    "Ejercicio 1\n",
    "crear un sistema de escuela con dos clases principales Persona y Estudiante\n",
    "la clase persona tendra los atributos de nombre y edad y un metodo que imprima la edad y nombre de la persona\n",
    "la clase estudiante heedara la clase persona y tendra un atributo adicional (Grado)\n"
   ]
  },
  {
   "cell_type": "code",
   "execution_count": null,
   "metadata": {},
   "outputs": [],
   "source": []
  },
  {
   "cell_type": "markdown",
   "metadata": {},
   "source": [
    "Ejercicio 2\n",
    "Crear una clase Hotel: sus atributos son: nombre, ubicacion, puntaje y precio.\n",
    "        El nombre debe ser una cadena no vacía\n",
    "        La ubicación debe ser una cadena no vacía\n",
    "        El puntaje debe ser un número int (1 a 5)\n",
    "        El precio debe ser un número float\n",
    "        usar la funcion  def __str__(self): para mostrar el hotel y sus atributos"
   ]
  },
  {
   "cell_type": "code",
   "execution_count": null,
   "metadata": {},
   "outputs": [],
   "source": []
  },
  {
   "cell_type": "markdown",
   "metadata": {},
   "source": [
    "Ejercicio 3\n",
    "Crea la clase Coche que contenga las siguientes propiedades:\n",
    "\n",
    "matrícula (string)\n",
    "marca (string)\n",
    "kilometros_recorridos (float)\n",
    "gasolina (float)\n",
    "La clase tendrá un método llamado avanzar() que recibirá como argumento el número de kilómetros a conducir y sumará los kilómetros recorridos al valor de la propiedad kilometros_recorridos. El método también restará al valor de gasolina el resultado de los kilómetros multiplicado por 0'1. La clase también contendrá otro método llamado repostar() que recibirá como argumento los litros introducidos que deberán sumarse a la variable gasolina. Por último, será necesario controlar que el método avanzar nunca obtendrá un número negativo en la gasolina. En dicho caso, deberá mostrar el siguiente mensaje: \"Es necesario repostar para recorrer la cantidad indicada de kilómetros\".\n",
    "\n",
    "Ejemplo:\n",
    "\n",
    "avanzar(50) # gasolina = 50\n",
    "avanzar(100) # kilometros_recorridos = 100, gasolina = 40\n",
    "avanzar(40) # kilometros_recorridos = 140, gasolina = 36\n",
    "avanzar(180) # kilometros_recorridos = 320, gasolina = 18\n",
    "Ejercicio 2"
   ]
  },
  {
   "cell_type": "code",
   "execution_count": null,
   "metadata": {},
   "outputs": [],
   "source": []
  },
  {
   "cell_type": "code",
   "execution_count": null,
   "metadata": {},
   "outputs": [],
   "source": []
  },
  {
   "cell_type": "code",
   "execution_count": null,
   "metadata": {},
   "outputs": [],
   "source": []
  },
  {
   "cell_type": "code",
   "execution_count": null,
   "metadata": {},
   "outputs": [],
   "source": []
  },
  {
   "cell_type": "code",
   "execution_count": null,
   "metadata": {},
   "outputs": [],
   "source": []
  },
  {
   "cell_type": "code",
   "execution_count": null,
   "metadata": {},
   "outputs": [],
   "source": []
  },
  {
   "cell_type": "code",
   "execution_count": null,
   "metadata": {},
   "outputs": [],
   "source": []
  },
  {
   "cell_type": "code",
   "execution_count": null,
   "metadata": {},
   "outputs": [],
   "source": []
  }
 ],
 "metadata": {
  "kernelspec": {
   "display_name": "Python 3",
   "language": "python",
   "name": "python3"
  },
  "language_info": {
   "codemirror_mode": {
    "name": "ipython",
    "version": 3
   },
   "file_extension": ".py",
   "mimetype": "text/x-python",
   "name": "python",
   "nbconvert_exporter": "python",
   "pygments_lexer": "ipython3",
   "version": "3.8.3"
  }
 },
 "nbformat": 4,
 "nbformat_minor": 4
}
