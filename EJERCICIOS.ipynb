{
 "cells": [
  {
   "cell_type": "code",
   "execution_count": 8,
   "metadata": {},
   "outputs": [
    {
     "name": "stdout",
     "output_type": "stream",
     "text": [
      "Mercedes 4 Audi 2\n"
     ]
    }
   ],
   "source": [
    "class Car():\n",
    "\n",
    "    def __init__(self, brand, wheels = 4 , doors = 2):\n",
    "        self.brand  = brand\n",
    "        self.wheels = wheels\n",
    "        self.doors  = doors\n",
    "\n",
    "def main():\n",
    "    car1 = Car(\"Mercedes\")\n",
    "    car2 = Car(\"Audi\")\n",
    "    print(car1.brand, car1.wheels, car2.brand , car2.doors)\n",
    "\n",
    "if __name__ == \"__main__\":\n",
    "    main()"
   ]
  },
  {
   "cell_type": "code",
   "execution_count": 9,
   "metadata": {},
   "outputs": [],
   "source": [
    "class Math:\n",
    "    @staticmethod\n",
    "    def cuadrado(i):\n",
    "        return i*i\n",
    "    @staticmethod\n",
    "    def mitad (i):\n",
    "        return i/2 "
   ]
  },
  {
   "cell_type": "code",
   "execution_count": 15,
   "metadata": {},
   "outputs": [
    {
     "name": "stdout",
     "output_type": "stream",
     "text": [
      "4\n"
     ]
    }
   ],
   "source": [
    "def main():\n",
    "    num1 = Math()\n",
    "    \n",
    "    print(num1.cuadrado(2))\n",
    "\n",
    "if __name__ == \"__main__\":\n",
    "    main()"
   ]
  },
  {
   "cell_type": "code",
   "execution_count": 18,
   "metadata": {},
   "outputs": [],
   "source": [
    "# clase animal\n",
    "\n",
    "class Animal:\n",
    "    \n",
    "    def __init__(self, age = \"1\", name = \"dog\"):\n",
    "        self.age = age # public attribute\n",
    "        self.name = name # public attribute\n",
    "        self.vivo = True\n",
    "        Animal.numAnimales +=1\n",
    "        \n",
    "    def saluda(self, saludo='Hola', receptor = 'nuevo amigo'):\n",
    "        print(saludo + \" \" + receptor)\n",
    "        \n",
    "    def mostrarNombre(self):\n",
    "        print(self.age)\n",
    "        \n",
    "    def mostrarEdad(self):\n",
    "        print(self.name)\n",
    "        \n",
    "    def morir(self):\n",
    "        if(self.vivo):\n",
    "            self.vivo = False\n",
    "            Animal.numAnimales -=1"
   ]
  },
  {
   "cell_type": "markdown",
   "metadata": {},
   "source": [
    "cómo se implementaría en Pyhon utilizando la POO una clase Vector que\n",
    "representa un vector en tres dimensiones y permita hacer sumas vectoriales y productos vectoriales."
   ]
  },
  {
   "cell_type": "code",
   "execution_count": 29,
   "metadata": {},
   "outputs": [],
   "source": [
    "class Vector:\n",
    "    \n",
    "    def __init__(self, x = 0, y = 0, z = 0):\n",
    "        \n",
    "        self._x = x\n",
    "        self._y = y \n",
    "        self._z = z \n",
    "        \n",
    "    def sumaVectorial(self, v):\n",
    "        suma = Vector(self._x + v._x, self._y + v._y, self._z + v._z)\n",
    "        return suma\n",
    "    \n",
    "    def multiplicacionVectorial(self, v):\n",
    "        xm = self._y * v._z - self._z * v._y\n",
    "        ym = -self._x * v._z + self._z * v._x  \n",
    "        zm = self._x * v._y - self._y * v._x\n",
    "        multiplicacion = Vector(xm, ym, zm)\n",
    "        return multiplicacion\n",
    "    \n",
    "    def __eq__(self, otherV):\n",
    "        if(self._x == otherV._x and self._y == otherV._y and self._z == otherV._z ):\n",
    "            return True\n",
    "        return False\n",
    "    \n",
    "    def __str__(self):\n",
    "        return \"(\" + \"x=\" + self._x + \", y=\" + self._y + \", z=\" + self._z + \")\"\n",
    "    "
   ]
  },
  {
   "cell_type": "code",
   "execution_count": 71,
   "metadata": {},
   "outputs": [
    {
     "name": "stdout",
     "output_type": "stream",
     "text": [
      "<class '__main__.Vector'>\n",
      "suma es =  ( 3 , 5 , 3 )\n",
      "mult es =  ( 1 , 0 , -1 )\n",
      "no test pass\n"
     ]
    }
   ],
   "source": [
    "def main():\n",
    "    \n",
    "    vector1 = Vector(1,2,1)\n",
    "    vector2 = Vector(2,3,2)\n",
    "    vector3 = Vector(3,3,3)\n",
    "    vector4 = Vector(0,0,0)\n",
    "    \n",
    "    vectorResultAdd  = vector1.sumaVectorial(vector2)  \n",
    "    vectorResultMult = vector1.multiplicacionVectorial(vector2)\n",
    "    print(type(vectorResultAdd))\n",
    "    print('suma es = ', '(', vectorResultAdd._x , ',', vectorResultAdd._y, ',', vectorResultAdd._z, \")\")\n",
    "    print('mult es = ', '(', vectorResultMult._x , ',', vectorResultMult._y, ',', vectorResultMult._z, \")\")\n",
    "    if(vectorResultAdd == vector3):\n",
    "        print(\"addVectors Test Passed\")\n",
    "        \n",
    "    if(vectorResultMult == vector4):\n",
    "        print(\"multVectors Test Passed\")\n",
    "        \n",
    "    else:\n",
    "        print(\"no test pass\")\n",
    "\n",
    "\n",
    "        \n",
    "    \n",
    "if __name__ == \"__main__\":\n",
    "    main()"
   ]
  },
  {
   "cell_type": "code",
   "execution_count": 43,
   "metadata": {},
   "outputs": [],
   "source": [
    "class MyClass:\n",
    "    \"\"\"A simple example class\"\"\"\n",
    "    i = 12345\n",
    "\n",
    "    def f(self):\n",
    "        return 'hello world'"
   ]
  },
  {
   "cell_type": "code",
   "execution_count": 44,
   "metadata": {},
   "outputs": [],
   "source": [
    "x = MyClass()"
   ]
  },
  {
   "cell_type": "code",
   "execution_count": 48,
   "metadata": {},
   "outputs": [
    {
     "name": "stdout",
     "output_type": "stream",
     "text": [
      "<__main__.MyClass object at 0x0000021C5FE79A90>\n"
     ]
    }
   ],
   "source": [
    "print(x)"
   ]
  },
  {
   "cell_type": "code",
   "execution_count": 59,
   "metadata": {},
   "outputs": [],
   "source": [
    "class Player:\n",
    "    def __init__(self, x, y):\n",
    "        self._x = x\n",
    "        self.y = y\n",
    "        self.health = 100\n",
    "\n",
    "    def move(self, dx, dy):\n",
    "        self.x += dx\n",
    "        self.y += dy\n",
    "\n",
    "    def damage(self, pts):\n",
    "        self.health -= pts"
   ]
  },
  {
   "cell_type": "code",
   "execution_count": 60,
   "metadata": {},
   "outputs": [],
   "source": [
    "a = Player(2, 3)\n",
    "b = Player(10, 20)"
   ]
  },
  {
   "cell_type": "code",
   "execution_count": 62,
   "metadata": {},
   "outputs": [
    {
     "data": {
      "text/plain": [
       "2"
      ]
     },
     "execution_count": 62,
     "metadata": {},
     "output_type": "execute_result"
    }
   ],
   "source": [
    "a._x"
   ]
  },
  {
   "cell_type": "code",
   "execution_count": 56,
   "metadata": {},
   "outputs": [
    {
     "data": {
      "text/plain": [
       "3"
      ]
     },
     "execution_count": 56,
     "metadata": {},
     "output_type": "execute_result"
    }
   ],
   "source": [
    "a.y"
   ]
  },
  {
   "cell_type": "markdown",
   "metadata": {},
   "source": [
    "# ENCAPSULACION "
   ]
  },
  {
   "cell_type": "code",
   "execution_count": 13,
   "metadata": {},
   "outputs": [
    {
     "name": "stdout",
     "output_type": "stream",
     "text": [
      "Titular de la cuenta: Juan Pérez\n",
      "Saldo inicial: $1000\n",
      "Depósito de $500 realizado. Saldo actual: $1500\n",
      "Retiro de $200 realizado. Saldo actual: $1300\n"
     ]
    }
   ],
   "source": [
    "class CuentaBancaria:\n",
    "    def __init__(self, titular, saldo_inicial):\n",
    "        self.titular = titular  # Atributo privado\n",
    "        self.__saldo = saldo_inicial  # Atributo privado\n",
    "\n",
    "    def obtener_saldo(self):\n",
    "        return self.__saldo\n",
    "\n",
    "    def depositar(self, cantidad):\n",
    "        if cantidad > 0:\n",
    "            self.__saldo += cantidad\n",
    "            print(f\"Depósito de ${cantidad} realizado. Saldo actual: ${self.__saldo}\")\n",
    "        else:\n",
    "            print(\"La cantidad de depósito debe ser mayor que cero.\")\n",
    "\n",
    "    def retirar(self, cantidad):\n",
    "        if cantidad > 0 and cantidad <= self.__saldo:\n",
    "            self.__saldo -= cantidad\n",
    "            print(f\"Retiro de ${cantidad} realizado. Saldo actual: ${self.__saldo}\")\n",
    "        else:\n",
    "            print(\"La cantidad de retiro es inválida o excede el saldo disponible.\")\n",
    "\n",
    "    def obtener_titular(self):\n",
    "        return self.titular\n",
    "\n",
    "\n",
    "# Crear una cuenta bancaria\n",
    "cuenta = CuentaBancaria(\"Juan Pérez\", 1000)\n",
    "\n",
    "# Acceder a los métodos de la cuenta bancaria\n",
    "print(f\"Titular de la cuenta: {cuenta.obtener_titular()}\")\n",
    "print(f\"Saldo inicial: ${cuenta.obtener_saldo()}\")\n",
    "\n",
    "cuenta.depositar(500)\n",
    "cuenta.retirar(200)\n",
    "\n",
    "# Intentar acceder directamente a los atributos privados genera un error\n",
    "# print(cuenta.__saldo)  # Esto generará un error\n"
   ]
  },
  {
   "cell_type": "code",
   "execution_count": 15,
   "metadata": {},
   "outputs": [
    {
     "data": {
      "text/plain": [
       "'Juan Pérez'"
      ]
     },
     "execution_count": 15,
     "metadata": {},
     "output_type": "execute_result"
    }
   ],
   "source": [
    "cuenta.titular"
   ]
  },
  {
   "cell_type": "code",
   "execution_count": 12,
   "metadata": {},
   "outputs": [
    {
     "data": {
      "text/plain": [
       "'Juan Pérez'"
      ]
     },
     "execution_count": 12,
     "metadata": {},
     "output_type": "execute_result"
    }
   ],
   "source": [
    "cuenta.obtener_titular()"
   ]
  },
  {
   "cell_type": "code",
   "execution_count": null,
   "metadata": {},
   "outputs": [],
   "source": []
  },
  {
   "cell_type": "code",
   "execution_count": null,
   "metadata": {},
   "outputs": [],
   "source": []
  },
  {
   "cell_type": "code",
   "execution_count": null,
   "metadata": {},
   "outputs": [],
   "source": []
  },
  {
   "cell_type": "markdown",
   "metadata": {},
   "source": [
    "## Creando clases más complejas"
   ]
  },
  {
   "cell_type": "markdown",
   "metadata": {},
   "source": [
    "Nos contratan para diseñar una clase para evaluar la relación calidad-precio de diversos hoteles. Nos dicen que los atributos que se cargarán de los hoteles son: nombre, ubicación, puntaje obtenido por votación, y precio, y que además de guardar hoteles y mostrarlos, debemos poder compararlos en términos de sus valores de relación calidad-precio, de modo tal que x < y signifique que el hotel x es peor en cuanto a la relación calidad-precio que el hotel y, y que dos hoteles son iguales si tienen la misma relación calidad-precio. La relación calidad-precio de un hotel la definen nuestros clientes como (puntaje^2) ∗ 10 / precio.\n",
    "\n",
    "Además, y como resultado de todo esto, tendremos que ser capaces de ordenar de menor a mayor una lista de hoteles, usando el orden que nos acaban de definir."
   ]
  },
  {
   "cell_type": "markdown",
   "metadata": {},
   "source": [
    "Averiguamos un poco más respecto de los atributos de los hoteles:\n",
    "\n",
    "El nombre y la ubicación deben ser cadenas no vacías.\n",
    "El puntaje debe ser un número (sin restricciones sobre su valor)\n",
    "El precio debe ser un número distinto de cero."
   ]
  },
  {
   "cell_type": "markdown",
   "metadata": {},
   "source": [
    "El método __init__:\n",
    "\n",
    "Creará objetos de la clase Hotel con los atributos que se indicaron (nombre, ubicación, puntaje, precio).\n",
    "Los valores por omisión para la construcción son: puntaje en 0, precio en float(\"inf\") (infinito), nombre y ubicación en * (el precio muy alto sirve para que si no se informa el precio de un hotel, se asuma el mayor valor posible.\n",
    "Necesitamos validar que puntaje y precio sean números (utilizaremos la función es_numero que ya se usó en el caso de los puntos). Cuando un precio viene en cero se reemplaza su valor por float(\"inf\") (de modo de asegurar que el precio nunca quede en cero).\n",
    "Necesitamos validar que nombre y ubicación sean cadenas no vacías (para lo cual tenemos que construir una función es_cadena_no_vacia).\n",
    "Cuando los datos no satisfagan los requisitos se levantará una excepción TypeError."
   ]
  },
  {
   "cell_type": "code",
   "execution_count": null,
   "metadata": {},
   "outputs": [],
   "source": []
  },
  {
   "cell_type": "markdown",
   "metadata": {},
   "source": [
    "Contará con un método __str__ para mostrar a los hoteles mediante una cadena del estilo:\n",
    "\n",
    "\"Hotel City de Mercedes - Puntaje: 3.25 - Precio: 78 pesos\"."
   ]
  },
  {
   "cell_type": "code",
   "execution_count": 63,
   "metadata": {},
   "outputs": [],
   "source": [
    "class Hotel:\n",
    "    \n",
    "    \"\"\" Hotel: sus atributos son: nombre, ubicacion, puntaje y precio.\"\"\"\n",
    "    \n",
    "    def __init__(self, name = '*', location = '*', score = 0, price = float(\"inf\")):\n",
    "        \n",
    "        \"\"\" nombre y ubicacion deben ser cadenas no vacías,\n",
    "            puntaje y precio son números.\n",
    "            Si el precio es 0 se reemplaza por infinito. \"\"\"\n",
    "        \n",
    "        if not name:\n",
    "            raise TypeError (\"El nombre debe ser una cadena no vacía\")\n",
    "        else:\n",
    "            self.name = name\n",
    "            \n",
    "        if not location:\n",
    "            raise TypeError (\"La ubicación debe ser una cadena no vacía\")\n",
    "        else:\n",
    "            self.location = location\n",
    "            \n",
    "        if type(score)==float or type(score)==int:\n",
    "            self.score = score\n",
    "        else:\n",
    "            raise TypeError (\"El puntaje debe ser un número\")\n",
    "            \n",
    "        if type(price)==float or type(price)==int:\n",
    "            if price != 0:\n",
    "                self.price = price\n",
    "            else:\n",
    "                self.price = float(\"inf\")\n",
    "        else:\n",
    "            raise TypeError(\"El precio debe ser un número\")\n",
    "        \n",
    "    def __str__(self):\n",
    "        \"\"\" Muestra el hotel según lo requerido. \"\"\"\n",
    "        return self.name + \" del \"+ self.location+ \\\n",
    "                \" - Puntaje: \"+ str(self.score) + \" - Precio: \"+ \\\n",
    "                str(self.price)+ \" pesos.\"\n",
    "    \n",
    "    def ratio(self):\n",
    "        \"\"\" Calcula la relación calidad-precio de un hotel de acuerdo\n",
    "            a la fórmula que nos dio el cliente. \"\"\"\n",
    "        return ((self.score**2)*10.)/self.price\n",
    "    \n",
    "    def __cmp__(self, other):\n",
    "        diff = self.ratio() - other.ratio()\n",
    "        if diff < 0:\n",
    "            return -1\n",
    "        elif diff > 0:\n",
    "            return 1\n",
    "        else:\n",
    "            return 0"
   ]
  },
  {
   "cell_type": "markdown",
   "metadata": {},
   "source": [
    "### Con este código tenemos ya la posibilidad de construir hoteles, con los atributos de los tipos correspondientes, y de mostrar los hoteles según nos lo han solicitado."
   ]
  },
  {
   "cell_type": "code",
   "execution_count": 71,
   "metadata": {},
   "outputs": [],
   "source": [
    "h1 = Hotel('Hotel sol', 'poblado', 3.25, 78)\n",
    "h2 = Hotel('Hotel sol', 'poblado', 3.25, 500)"
   ]
  },
  {
   "cell_type": "code",
   "execution_count": 72,
   "metadata": {},
   "outputs": [
    {
     "name": "stdout",
     "output_type": "stream",
     "text": [
      "Hotel sol del poblado - Puntaje: 3.25 - Precio: 78 pesos.\n"
     ]
    }
   ],
   "source": [
    "print(h1)"
   ]
  },
  {
   "cell_type": "code",
   "execution_count": 73,
   "metadata": {},
   "outputs": [
    {
     "data": {
      "text/plain": [
       "1.3541666666666667"
      ]
     },
     "execution_count": 73,
     "metadata": {},
     "output_type": "execute_result"
    }
   ],
   "source": [
    "h1.ratio()"
   ]
  },
  {
   "cell_type": "code",
   "execution_count": 74,
   "metadata": {},
   "outputs": [
    {
     "data": {
      "text/plain": [
       "0.21125"
      ]
     },
     "execution_count": 74,
     "metadata": {},
     "output_type": "execute_result"
    }
   ],
   "source": [
    "h2.ratio()"
   ]
  },
  {
   "cell_type": "markdown",
   "metadata": {},
   "source": [
    "## Métodos para comparar objetos"
   ]
  },
  {
   "cell_type": "raw",
   "metadata": {},
   "source": [
    "Para resolver las comparaciones entre hoteles, será necesario definir algunos métodos especiales que permiten comparar objetos.\n",
    "\n",
    "En particular, cuando se quiere que los objetos puedan ser ordenados, el método que se debe definir es __cmp__, que debe devolver:\n",
    "Un valor entero menor a cero, si el primer parámetro es menor al segundo.\n",
    "Un valor entero mayor a cero, si el primer parámetro es mayor que el segundo.\n",
    "Cero, si ambos parámetros son iguales.\n",
    "Para crear el método __cmp__, definiremos primero un método auxiliar ratio(self) que calcula la relación calidad-precio de una instancia de Hotel según la fórmula indicada:"
   ]
  },
  {
   "cell_type": "code",
   "execution_count": 76,
   "metadata": {},
   "outputs": [],
   "source": [
    "h1=Hotel(\"Hotel 1* normal\", \"MDQ\", 1, 10)\n",
    "h2=Hotel(\"Hotel 2* normal\", \"MDQ\", 2, 40)\n",
    "h3=Hotel(\"Hotel 3* carisimo\", \"MDQ\", 3, 130)\n",
    "h4=Hotel(\"Hotel vale la pena\" ,\"MDQ\", 4, 130)"
   ]
  },
  {
   "cell_type": "code",
   "execution_count": 138,
   "metadata": {},
   "outputs": [],
   "source": [
    "class Dog:\n",
    "    # Class attribute\n",
    "    species = \"Canis familiaris\"\n",
    "\n",
    "    def __init__(self, name, age):\n",
    "        self.name = name\n",
    "        self.age = age\n",
    "     # Instance method\n",
    "    \n",
    "    def description(self):\n",
    "        return f\"{self.name} is {self.age} years old\"\n",
    "\n",
    "    # Another instance method\n",
    "    def speak(self, sound):\n",
    "        return f\"{self.name} says {sound}\"\n",
    "    \n",
    "    def __str__(self):\n",
    "        return f\"{self.name} is {self.age} years old\""
   ]
  },
  {
   "cell_type": "code",
   "execution_count": 139,
   "metadata": {},
   "outputs": [
    {
     "data": {
      "text/plain": [
       "False"
      ]
     },
     "execution_count": 139,
     "metadata": {},
     "output_type": "execute_result"
    }
   ],
   "source": [
    "a = Dog('cano', '2')\n",
    "b = Dog('cano', '2')\n",
    "a == b"
   ]
  },
  {
   "cell_type": "code",
   "execution_count": 140,
   "metadata": {},
   "outputs": [
    {
     "data": {
      "text/plain": [
       "True"
      ]
     },
     "execution_count": 140,
     "metadata": {},
     "output_type": "execute_result"
    }
   ],
   "source": [
    "a.name == b.name"
   ]
  },
  {
   "cell_type": "code",
   "execution_count": 141,
   "metadata": {},
   "outputs": [
    {
     "data": {
      "text/plain": [
       "'cano is 2 years old'"
      ]
     },
     "execution_count": 141,
     "metadata": {},
     "output_type": "execute_result"
    }
   ],
   "source": [
    "a.description()"
   ]
  },
  {
   "cell_type": "code",
   "execution_count": 142,
   "metadata": {},
   "outputs": [
    {
     "data": {
      "text/plain": [
       "'cano says Bow Wow'"
      ]
     },
     "execution_count": 142,
     "metadata": {},
     "output_type": "execute_result"
    }
   ],
   "source": [
    "a.speak(\"Bow Wow\")"
   ]
  },
  {
   "cell_type": "code",
   "execution_count": 143,
   "metadata": {},
   "outputs": [
    {
     "name": "stdout",
     "output_type": "stream",
     "text": [
      "cano is 2 years old\n"
     ]
    }
   ],
   "source": [
    "print(a)"
   ]
  },
  {
   "cell_type": "markdown",
   "metadata": {},
   "source": [
    "Clases de Padres vs Clases de Hijos\n",
    "Vamos a crear una clase infantil para cada una de las tres razas mencionadas anteriormente: Jack Russell Terrier, Dachshund y Bulldog.\n",
    "\n",
    "Como referencia, aquí está la definición completa de la Dogclase:"
   ]
  },
  {
   "cell_type": "code",
   "execution_count": 86,
   "metadata": {},
   "outputs": [],
   "source": [
    "class Dog:\n",
    "    # Class attribute\n",
    "    species = \"Canis familiaris\"\n",
    "\n",
    "    def __init__(self, name, age):\n",
    "        self.name = name\n",
    "        self.age = age\n",
    "     # Instance method\n",
    "    \n",
    "    def description(self):\n",
    "        return f\"{self.name} is {self.age} years old\"\n",
    "\n",
    "    # Another instance method\n",
    "    def speak(self, sound):\n",
    "        return f\"{self.name} says {sound}\"\n",
    "    \n",
    "    def __str__(self):\n",
    "        return f\"{self.name} is {self.age} years old\"\n",
    "    "
   ]
  },
  {
   "cell_type": "code",
   "execution_count": 87,
   "metadata": {},
   "outputs": [],
   "source": [
    "# clases Hijas de la clase perro.\n",
    "class JackRussellTerrier(Dog):\n",
    "    pass\n",
    "\n",
    "class Dachshund(Dog):\n",
    "    pass\n",
    "\n",
    "class Bulldog(Dog):\n",
    "    pass"
   ]
  },
  {
   "cell_type": "code",
   "execution_count": 88,
   "metadata": {},
   "outputs": [],
   "source": [
    "dog1 = JackRussellTerrier('Holler', 4)"
   ]
  },
  {
   "cell_type": "code",
   "execution_count": 90,
   "metadata": {},
   "outputs": [
    {
     "data": {
      "text/plain": [
       "4"
      ]
     },
     "execution_count": 90,
     "metadata": {},
     "output_type": "execute_result"
    }
   ],
   "source": [
    "dog1.age"
   ]
  },
  {
   "cell_type": "code",
   "execution_count": 92,
   "metadata": {},
   "outputs": [
    {
     "name": "stdout",
     "output_type": "stream",
     "text": [
      "Holler is 4 years old\n"
     ]
    }
   ],
   "source": [
    "print(dog1)"
   ]
  },
  {
   "cell_type": "markdown",
   "metadata": {},
   "source": [
    "Las instancias de clases secundarias heredan todos los atributos y métodos de la clase principal:"
   ]
  },
  {
   "cell_type": "code",
   "execution_count": 98,
   "metadata": {},
   "outputs": [
    {
     "data": {
      "text/plain": [
       "(True, True)"
      ]
     },
     "execution_count": 98,
     "metadata": {},
     "output_type": "execute_result"
    }
   ],
   "source": [
    "isinstance(dog1, JackRussellTerrier), isinstance(dog1, Dog)"
   ]
  },
  {
   "cell_type": "code",
   "execution_count": 99,
   "metadata": {},
   "outputs": [
    {
     "data": {
      "text/plain": [
       "(False, False)"
      ]
     },
     "execution_count": 99,
     "metadata": {},
     "output_type": "execute_result"
    }
   ],
   "source": [
    "isinstance(dog1, Dachshund), isinstance(dog1, Bulldog)"
   ]
  },
  {
   "cell_type": "markdown",
   "metadata": {},
   "source": [
    "Ampliar la funcionalidad de una clase principal"
   ]
  },
  {
   "cell_type": "code",
   "execution_count": 100,
   "metadata": {},
   "outputs": [],
   "source": [
    "class JackRussellTerrier(Dog):\n",
    "    def speak(self, sound=\"Arf\"):\n",
    "        return f\"{self.name} says {sound}\""
   ]
  },
  {
   "cell_type": "code",
   "execution_count": 101,
   "metadata": {},
   "outputs": [],
   "source": [
    "dog1 = JackRussellTerrier('Holler', 4)"
   ]
  },
  {
   "cell_type": "code",
   "execution_count": 103,
   "metadata": {},
   "outputs": [
    {
     "data": {
      "text/plain": [
       "'Holler says Arf'"
      ]
     },
     "execution_count": 103,
     "metadata": {},
     "output_type": "execute_result"
    }
   ],
   "source": [
    "dog1.speak()"
   ]
  },
  {
   "cell_type": "code",
   "execution_count": 104,
   "metadata": {},
   "outputs": [],
   "source": [
    "class Dachshund(Dog):\n",
    "     def speak(self, sound=\"wows\"):\n",
    "        return f\"{self.name} says {sound}\""
   ]
  },
  {
   "cell_type": "code",
   "execution_count": 105,
   "metadata": {},
   "outputs": [],
   "source": [
    "dog2 = Dachshund('Gufi', 5)"
   ]
  },
  {
   "cell_type": "code",
   "execution_count": 106,
   "metadata": {},
   "outputs": [
    {
     "data": {
      "text/plain": [
       "'Gufi says wows'"
      ]
     },
     "execution_count": 106,
     "metadata": {},
     "output_type": "execute_result"
    }
   ],
   "source": [
    "dog2.speak()"
   ]
  },
  {
   "cell_type": "code",
   "execution_count": null,
   "metadata": {},
   "outputs": [],
   "source": [
    "class Dog:\n",
    "    species = \"Canis familiaris\"\n",
    "\n",
    "    def __init__(self, name, age):\n",
    "        self.name = name\n",
    "        self.age = age\n",
    "\n",
    "    def __str__(self):\n",
    "        return f\"{self.name} is {self.age} years old\"\n",
    "\n",
    "    def speak(self, sound):\n",
    "        return f\"{self.name} says {sound}\""
   ]
  },
  {
   "cell_type": "code",
   "execution_count": 107,
   "metadata": {},
   "outputs": [],
   "source": [
    "class GoldenRetriever(Dog):\n",
    "    def speak(self, sound=\"Bark\"):\n",
    "        return f\"{self.name} says {sound}\""
   ]
  },
  {
   "cell_type": "code",
   "execution_count": 108,
   "metadata": {},
   "outputs": [],
   "source": [
    "p = GoldenRetriever(\"Firo\", 3)"
   ]
  },
  {
   "cell_type": "code",
   "execution_count": 109,
   "metadata": {},
   "outputs": [
    {
     "data": {
      "text/plain": [
       "'Firo says Bark'"
      ]
     },
     "execution_count": 109,
     "metadata": {},
     "output_type": "execute_result"
    }
   ],
   "source": [
    "p.speak()"
   ]
  },
  {
   "cell_type": "markdown",
   "metadata": {},
   "source": [
    "# crear una jeraquia de herencia basica"
   ]
  },
  {
   "cell_type": "code",
   "execution_count": 112,
   "metadata": {},
   "outputs": [],
   "source": [
    "class Person:\n",
    "    \n",
    "    def __init__(self, document, name, email):\n",
    "        self.document = document\n",
    "        self.name     = name\n",
    "        self.email  = email"
   ]
  },
  {
   "cell_type": "code",
   "execution_count": 117,
   "metadata": {},
   "outputs": [],
   "source": [
    "class Estudent(Person):\n",
    "    def __init__(self, document, name, email, identity , course):\n",
    "        super().__init__(document, name, email)\n",
    "        self.identity = identity\n",
    "        self.course = course\n",
    "    def __str__(self):\n",
    "        return f\"{self.name} is in {self.course}, id {self.identity} {self.document}\"\n",
    "        "
   ]
  },
  {
   "cell_type": "code",
   "execution_count": 118,
   "metadata": {},
   "outputs": [],
   "source": [
    "estudiante_1 = Estudent(\"CC\", \"Juan Erasmo\", \"crios@fddfm.com\", \"id0001\", \"calculo\")"
   ]
  },
  {
   "cell_type": "code",
   "execution_count": 119,
   "metadata": {},
   "outputs": [
    {
     "name": "stdout",
     "output_type": "stream",
     "text": [
      "Juan Erasmo is in calculo, id id0001 CC\n"
     ]
    }
   ],
   "source": [
    "print(estudiante_1)"
   ]
  },
  {
   "cell_type": "code",
   "execution_count": 131,
   "metadata": {},
   "outputs": [],
   "source": [
    "class Matematicas:\n",
    "    \n",
    "    def __init__(self, x = 0, y = 0):\n",
    "        \n",
    "        self.x = x\n",
    "        self.y = y\n",
    "        \n",
    "        if type(x)==float or type(x)==int:\n",
    "            self.x = x\n",
    "        else:\n",
    "            raise TypeError (\"El x debe ser un número\")\n",
    "            \n",
    "        if type(y)==float or type(y)==int:\n",
    "            if y != 0:\n",
    "                self.y = y\n",
    "            else:\n",
    "                self.y = float(\"inf\")\n",
    "        else:\n",
    "            raise TypeError(\"El y debe ser un número\")\n",
    "            \n",
    "    def __str__(self):\n",
    "        return f\"(num1 = {self.x} , num2 = {self.y})\"\n",
    "    \n",
    "    def suma(self):\n",
    "        return self.x + self.y\n",
    "    \n",
    "    def resta(self):\n",
    "        return self.x - self.y\n",
    "    \n",
    "    def multiplicacion(self):\n",
    "        return self.x * self.y\n",
    "    \n",
    "    def division(self):\n",
    "        return self.x / self.y\n",
    "        "
   ]
  },
  {
   "cell_type": "code",
   "execution_count": 132,
   "metadata": {},
   "outputs": [
    {
     "name": "stdout",
     "output_type": "stream",
     "text": [
      "(num1 = 2.1 , num2 = 6.2)\n"
     ]
    }
   ],
   "source": [
    "p1 = Matematicas(2.1, 6.2)\n",
    "print(p1)"
   ]
  },
  {
   "cell_type": "code",
   "execution_count": 130,
   "metadata": {},
   "outputs": [
    {
     "data": {
      "text/plain": [
       "8.3"
      ]
     },
     "execution_count": 130,
     "metadata": {},
     "output_type": "execute_result"
    }
   ],
   "source": [
    "p1.suma()"
   ]
  },
  {
   "cell_type": "code",
   "execution_count": 133,
   "metadata": {},
   "outputs": [
    {
     "data": {
      "text/plain": [
       "-4.1"
      ]
     },
     "execution_count": 133,
     "metadata": {},
     "output_type": "execute_result"
    }
   ],
   "source": [
    "p1.resta()"
   ]
  },
  {
   "cell_type": "code",
   "execution_count": 134,
   "metadata": {},
   "outputs": [
    {
     "data": {
      "text/plain": [
       "13.020000000000001"
      ]
     },
     "execution_count": 134,
     "metadata": {},
     "output_type": "execute_result"
    }
   ],
   "source": [
    "p1.multiplicacion()"
   ]
  },
  {
   "cell_type": "code",
   "execution_count": 135,
   "metadata": {},
   "outputs": [
    {
     "data": {
      "text/plain": [
       "0.33870967741935487"
      ]
     },
     "execution_count": 135,
     "metadata": {},
     "output_type": "execute_result"
    }
   ],
   "source": [
    "p1.division()"
   ]
  },
  {
   "cell_type": "code",
   "execution_count": 136,
   "metadata": {},
   "outputs": [],
   "source": [
    "class Residuo(Matematicas):\n",
    "    def residuo(self):\n",
    "        return self.x % self.y"
   ]
  },
  {
   "cell_type": "code",
   "execution_count": 137,
   "metadata": {},
   "outputs": [],
   "source": [
    "p = Residuo(52, 12)"
   ]
  },
  {
   "cell_type": "code",
   "execution_count": 138,
   "metadata": {},
   "outputs": [
    {
     "data": {
      "text/plain": [
       "64"
      ]
     },
     "execution_count": 138,
     "metadata": {},
     "output_type": "execute_result"
    }
   ],
   "source": [
    "p.suma()"
   ]
  },
  {
   "cell_type": "code",
   "execution_count": 140,
   "metadata": {},
   "outputs": [
    {
     "data": {
      "text/plain": [
       "4"
      ]
     },
     "execution_count": 140,
     "metadata": {},
     "output_type": "execute_result"
    }
   ],
   "source": [
    "p.residuo()"
   ]
  },
  {
   "cell_type": "markdown",
   "metadata": {},
   "source": [
    "# Herencia multiple"
   ]
  },
  {
   "cell_type": "code",
   "execution_count": 3,
   "metadata": {},
   "outputs": [],
   "source": [
    "class Telefono:\n",
    "    \n",
    "    def __init__(self):\n",
    "        pass\n",
    "    \n",
    "    def llamar(self):\n",
    "        print('llamar')\n",
    "        \n",
    "    def ocupado(self):\n",
    "        print('ocupado')"
   ]
  },
  {
   "cell_type": "code",
   "execution_count": 4,
   "metadata": {},
   "outputs": [],
   "source": [
    "class Camara:\n",
    "    def __init__(self):\n",
    "        pass\n",
    "    \n",
    "    def fotografia(self):\n",
    "        print('tomar fotos')"
   ]
  },
  {
   "cell_type": "code",
   "execution_count": 5,
   "metadata": {},
   "outputs": [],
   "source": [
    "class Reproduccion:\n",
    "    def __init__(self):\n",
    "        pass\n",
    "    \n",
    "    def reproduccion(self):\n",
    "        print('reproduca musica...')"
   ]
  },
  {
   "cell_type": "code",
   "execution_count": 6,
   "metadata": {},
   "outputs": [],
   "source": [
    "class Smartphone(Telefono, Camara, Reproduccion):\n",
    "    \n",
    "    def __del__(self):\n",
    "        print('tel apagado')   "
   ]
  },
  {
   "cell_type": "code",
   "execution_count": 7,
   "metadata": {},
   "outputs": [],
   "source": [
    "smart_phone_1 = Smartphone()"
   ]
  },
  {
   "cell_type": "code",
   "execution_count": 9,
   "metadata": {},
   "outputs": [
    {
     "data": {
      "text/plain": [
       "<function __main__.Telefono.llamar(self)>"
      ]
     },
     "execution_count": 9,
     "metadata": {},
     "output_type": "execute_result"
    }
   ],
   "source": [
    "Smartphone.llamar"
   ]
  },
  {
   "cell_type": "code",
   "execution_count": 11,
   "metadata": {},
   "outputs": [
    {
     "name": "stdout",
     "output_type": "stream",
     "text": [
      "['__class__', '__del__', '__delattr__', '__dict__', '__dir__', '__doc__', '__eq__', '__format__', '__ge__', '__getattribute__', '__gt__', '__hash__', '__init__', '__init_subclass__', '__le__', '__lt__', '__module__', '__ne__', '__new__', '__reduce__', '__reduce_ex__', '__repr__', '__setattr__', '__sizeof__', '__str__', '__subclasshook__', '__weakref__', 'fotografia', 'llamar', 'ocupado', 'reproduccion']\n"
     ]
    }
   ],
   "source": [
    "print(dir(smart_phone_1))"
   ]
  },
  {
   "cell_type": "markdown",
   "metadata": {},
   "source": [
    "# Polimorfismo"
   ]
  },
  {
   "cell_type": "markdown",
   "metadata": {},
   "source": [
    "El polimorfismo en Python se refiere a la capacidad de objetos de diferentes clases para responder de manera consistente a una misma interfaz, lo que permite que diferentes objetos compartan un mismo nombre de método o atributo y actúen de manera única según su propia implementación. Esto promueve la reutilización de código y facilita la escritura de programas flexibles y extensibles."
   ]
  },
  {
   "cell_type": "markdown",
   "metadata": {},
   "source": [
    "\n",
    "Claro, aquí tienes un ejemplo que ilustra el polimorfismo en el contexto de ventas minoristas (retail) en Python, con docstrings y explicaciones detalladas:"
   ]
  },
  {
   "cell_type": "code",
   "execution_count": null,
   "metadata": {},
   "outputs": [],
   "source": [
    "class Producto:\n",
    "    def __init__(self, nombre, precio):\n",
    "        \"\"\"\n",
    "        Inicializa un producto con un nombre y precio.\n",
    "\n",
    "        Args:\n",
    "            nombre (str): El nombre del producto.\n",
    "            precio (float): El precio del producto en la moneda local.\n",
    "        \"\"\"\n",
    "        self.nombre = nombre\n",
    "        self.precio = precio\n",
    "\n",
    "    def calcular_precio_final(self):\n",
    "        \"\"\"\n",
    "        Calcula el precio final del producto.\n",
    "\n",
    "        Returns:\n",
    "            float: El precio final del producto después de aplicar cualquier descuento o impuesto.\n",
    "        \"\"\"\n",
    "        return self.precio\n",
    "\n",
    "class ProductoConDescuento(Producto):\n",
    "    def __init__(self, nombre, precio, descuento):\n",
    "        \"\"\"\n",
    "        Inicializa un producto con descuento.\n",
    "\n",
    "        Args:\n",
    "            nombre (str): El nombre del producto.\n",
    "            precio (float): El precio base del producto en la moneda local.\n",
    "            descuento (float): El descuento aplicado al producto como un porcentaje.\n",
    "        \"\"\"\n",
    "        super().__init__(nombre, precio)\n",
    "        self.descuento = descuento\n",
    "\n",
    "    def calcular_precio_final(self):\n",
    "        \"\"\"\n",
    "        Calcula el precio final del producto con descuento.\n",
    "\n",
    "        Returns:\n",
    "            float: El precio final del producto después de aplicar el descuento.\n",
    "        \"\"\"\n",
    "        descuento_aplicado = self.precio * (self.descuento / 100)\n",
    "        precio_final = self.precio - descuento_aplicado\n",
    "        return precio_final\n",
    "\n",
    "class ProductoConImpuesto(Producto):\n",
    "    def __init__(self, nombre, precio, impuesto):\n",
    "        \"\"\"\n",
    "        Inicializa un producto con impuesto.\n",
    "\n",
    "        Args:\n",
    "            nombre (str): El nombre del producto.\n",
    "            precio (float): El precio base del producto en la moneda local.\n",
    "            impuesto (float): El impuesto aplicado al producto como un porcentaje.\n",
    "        \"\"\"\n",
    "        super().__init__(nombre, precio)\n",
    "        self.impuesto = impuesto\n",
    "\n",
    "    def calcular_precio_final(self):\n",
    "        \"\"\"\n",
    "        Calcula el precio final del producto con impuesto.\n",
    "\n",
    "        Returns:\n",
    "            float: El precio final del producto después de aplicar el impuesto.\n",
    "        \"\"\"\n",
    "        impuesto_aplicado = self.precio * (self.impuesto / 100)\n",
    "        precio_final = self.precio + impuesto_aplicado\n",
    "        return precio_final\n",
    "\n",
    "# Función para mostrar el precio final de un producto\n",
    "def mostrar_precio_final(producto):\n",
    "    \"\"\"\n",
    "    Muestra el nombre y el precio final de un producto.\n",
    "\n",
    "    Args:\n",
    "        producto (Producto): El producto del cual se quiere mostrar el precio final.\n",
    "    \"\"\"\n",
    "    precio_final = producto.calcular_precio_final()\n",
    "    print(f\"{producto.nombre}: Precio Final - {precio_final} moneda local\")\n",
    "\n",
    "# Crear instancias de productos\n",
    "producto_1 = Producto(\"Camisa\", 20.0)\n",
    "producto_2 = ProductoConDescuento(\"Zapatos\", 80.0, 10)\n",
    "producto_3 = ProductoConImpuesto(\"Teléfono\", 500.0, 8)\n",
    "\n",
    "# Mostrar los precios finales de los productos\n",
    "mostrar_precio_final(producto_1)\n",
    "mostrar_precio_final(producto_2)\n",
    "mostrar_precio_final(producto_3)\n"
   ]
  },
  {
   "cell_type": "markdown",
   "metadata": {},
   "source": [
    "quí está una refactorización del código anterior siguiendo el principio de responsabilidad única (SRP) separando la representación del producto y la lógica para calcular el precio final en clases diferentes:"
   ]
  },
  {
   "cell_type": "code",
   "execution_count": null,
   "metadata": {},
   "outputs": [],
   "source": [
    "class Producto:\n",
    "    def __init__(self, nombre, precio):\n",
    "        \"\"\"\n",
    "        Inicializa un producto con un nombre y precio.\n",
    "\n",
    "        Args:\n",
    "            nombre (str): El nombre del producto.\n",
    "            precio (float): El precio del producto en la moneda local.\n",
    "        \"\"\"\n",
    "        self.nombre = nombre\n",
    "        self.precio = precio\n",
    "\n",
    "class CalculadoraDePrecio:\n",
    "    @staticmethod\n",
    "    def calcular_precio_final(producto):\n",
    "        \"\"\"\n",
    "        Calcula el precio final del producto.\n",
    "\n",
    "        Args:\n",
    "            producto (Producto): El producto para el cual se calculará el precio final.\n",
    "\n",
    "        Returns:\n",
    "            float: El precio final del producto después de aplicar cualquier descuento o impuesto.\n",
    "        \"\"\"\n",
    "        return producto.precio\n",
    "\n",
    "class ProductoConDescuento(Producto):\n",
    "    def __init__(self, nombre, precio, descuento):\n",
    "        super().__init__(nombre, precio)\n",
    "        self.descuento = descuento\n",
    "\n",
    "class ProductoConImpuesto(Producto):\n",
    "    def __init__(self, nombre, precio, impuesto):\n",
    "        super().__init__(nombre, precio)\n",
    "        self.impuesto = impuesto\n",
    "\n",
    "# Función para mostrar el precio final de un producto\n",
    "def mostrar_precio_final(producto):\n",
    "    precio_final = CalculadoraDePrecio.calcular_precio_final(producto)\n",
    "    print(f\"{producto.nombre}: Precio Final - {precio_final} moneda local\")\n",
    "\n",
    "# Crear instancias de productos\n",
    "producto_1 = Producto(\"Camisa\", 20.0)\n",
    "producto_2 = ProductoConDescuento(\"Zapatos\", 80.0, 10)\n",
    "producto_3 = ProductoConImpuesto(\"Teléfono\", 500.0, 8)\n",
    "\n",
    "# Mostrar los precios finales de los productos\n",
    "mostrar_precio_final(producto_1)\n",
    "mostrar_precio_final(producto_2)\n",
    "mostrar_precio_final(producto_3)\n"
   ]
  },
  {
   "cell_type": "code",
   "execution_count": null,
   "metadata": {},
   "outputs": [],
   "source": []
  },
  {
   "cell_type": "code",
   "execution_count": null,
   "metadata": {},
   "outputs": [],
   "source": []
  },
  {
   "cell_type": "markdown",
   "metadata": {},
   "source": [
    "# métodos CLASE Y ESTÁTICOS"
   ]
  },
  {
   "cell_type": "code",
   "execution_count": 13,
   "metadata": {},
   "outputs": [],
   "source": [
    "class Pastel:\n",
    "    def __init__(self, ingredientes):\n",
    "        self.ingredientes = ingredientes \n",
    "    \n",
    "    def __repr__(self):\n",
    "        return f' pastel({self.ingredientes !r})'\n",
    "    \n",
    "    @classmethod\n",
    "    def Pastel_chocolate(cls):\n",
    "        return cls(['harina', 'leche', 'chocolate'])\n",
    "    \n",
    "    @classmethod\n",
    "    def Pastel_vainilla(cls):\n",
    "        return cls(['harina', 'leche', 'vainilla'])"
   ]
  },
  {
   "cell_type": "code",
   "execution_count": 15,
   "metadata": {},
   "outputs": [
    {
     "data": {
      "text/plain": [
       " pastel(['harina', 'leche', 'vainilla'])"
      ]
     },
     "execution_count": 15,
     "metadata": {},
     "output_type": "execute_result"
    }
   ],
   "source": [
    "pastel = Pastel.Pastel_vainilla()\n",
    "pastel"
   ]
  },
  {
   "cell_type": "code",
   "execution_count": 16,
   "metadata": {},
   "outputs": [
    {
     "data": {
      "text/plain": [
       "__main__.Pastel"
      ]
     },
     "execution_count": 16,
     "metadata": {},
     "output_type": "execute_result"
    }
   ],
   "source": [
    "type(pastel)"
   ]
  },
  {
   "cell_type": "markdown",
   "metadata": {},
   "source": [
    "# Clases abstraptas\n",
    "Simplemente definen una forma de crear interfaces (a través de metaclases) en los que se definen unos métodos (pero no se implementan) y donde se fuerza a las clases que usan ese interfaz a implementar los métodos. Veamos unos ejemplos."
   ]
  },
  {
   "cell_type": "code",
   "execution_count": 143,
   "metadata": {},
   "outputs": [],
   "source": [
    "from abc import ABC\n",
    "class Mando(ABC):\n",
    "    pass"
   ]
  },
  {
   "cell_type": "code",
   "execution_count": 144,
   "metadata": {},
   "outputs": [],
   "source": [
    "from abc import ABCMeta\n",
    "class Mando(metaclass=ABCMeta):\n",
    "    pass"
   ]
  },
  {
   "cell_type": "code",
   "execution_count": null,
   "metadata": {},
   "outputs": [],
   "source": []
  },
  {
   "cell_type": "markdown",
   "metadata": {},
   "source": [
    "# PRINCIPIOS SOLID"
   ]
  },
  {
   "cell_type": "markdown",
   "metadata": {},
   "source": [
    "El principio de responsabilidad única (SRP, por sus siglas en inglés) establece debe tener una única responsabilidad o función claramente definida. Hay margen para una mejora en términos de SRP, ya que la clase actualmente se encarga de dos responsabilidades relacionadas pero diferentes:"
   ]
  },
  {
   "cell_type": "code",
   "execution_count": 1,
   "metadata": {},
   "outputs": [
    {
     "name": "stdout",
     "output_type": "stream",
     "text": [
      "Toyota Corolla se ha movido 20 kilómetros.\n",
      "Se han agregado 10 litros de combustible a Toyota Corolla.\n",
      "No hay suficiente combustible para mover el auto.\n"
     ]
    }
   ],
   "source": [
    "class Auto:\n",
    "    def __init__(self, marca, modelo, combustible=0):\n",
    "        self.marca = marca\n",
    "        self.modelo = modelo\n",
    "        self.combustible = combustible\n",
    "\n",
    "    def mover(self, distancia):\n",
    "        if self.combustible >= distancia:\n",
    "            print(f\"{self.marca} {self.modelo} se ha movido {distancia} kilómetros.\")\n",
    "            self.combustible -= distancia\n",
    "        else:\n",
    "            print(\"No hay suficiente combustible para mover el auto.\")\n",
    "\n",
    "    def agregar_combustible(self, cantidad):\n",
    "        if cantidad > 0:\n",
    "            self.combustible += cantidad\n",
    "            print(f\"Se han agregado {cantidad} litros de combustible a {self.marca} {self.modelo}.\")\n",
    "        else:\n",
    "            print(\"La cantidad de combustible a agregar debe ser mayor que 0.\")\n",
    "\n",
    "# Crear un objeto de la clase Auto\n",
    "mi_auto = Auto(\"Toyota\", \"Corolla\", 30)  # Marca, modelo y combustible inicial\n",
    "\n",
    "# Usar los métodos de la clase\n",
    "mi_auto.mover(20)  # Mover el auto 20 kilómetros\n",
    "mi_auto.agregar_combustible(10)  # Agregar 10 litros de combustible\n",
    "mi_auto.mover(40)  # Intentar mover el auto 40 kilómetros (debe fallar por falta de combustible)\n"
   ]
  },
  {
   "cell_type": "markdown",
   "metadata": {},
   "source": [
    "### Refactorización."
   ]
  },
  {
   "cell_type": "code",
   "execution_count": null,
   "metadata": {},
   "outputs": [],
   "source": [
    "class Automovil:\n",
    "    def __init__(self, marca, modelo):\n",
    "        self.marca = marca\n",
    "        self.modelo = modelo\n",
    "\n",
    "    def mover(self, distancia, combustible):\n",
    "        if combustible >= distancia:\n",
    "            print(f\"{self.marca} {self.modelo} se ha movido {distancia} kilómetros.\")\n",
    "            combustible -= distancia\n",
    "            return combustible\n",
    "        else:\n",
    "            print(\"No hay suficiente combustible para mover el automóvil.\")\n",
    "            return combustible\n",
    "\n",
    "class TanqueDeCombustible:\n",
    "    def __init__(self, capacidad, nivel=0):\n",
    "        self.capacidad = capacidad\n",
    "        self.nivel = nivel\n",
    "\n",
    "    def agregar_combustible(self, cantidad):\n",
    "        if cantidad > 0:\n",
    "            espacio_disponible = self.capacidad - self.nivel\n",
    "            if cantidad <= espacio_disponible:\n",
    "                self.nivel += cantidad\n",
    "                print(f\"Se han agregado {cantidad} litros de combustible al tanque.\")\n",
    "            else:\n",
    "                print(f\"El tanque no tiene suficiente espacio para agregar {cantidad} litros.\")\n",
    "        else:\n",
    "            print(\"La cantidad de combustible a agregar debe ser mayor que 0.\")\n",
    "\n",
    "# Crear un automóvil y un tanque de combustible\n",
    "mi_auto = Automovil(\"Toyota\", \"Corolla\")\n",
    "mi_tanque = TanqueDeCombustible(50)  # Capacidad del tanque: 50 litros\n",
    "\n",
    "# Usar los métodos de las clases\n",
    "mi_tanque.agregar_combustible(30)  # Agregar 30 litros de combustible al tanque\n",
    "mi_tanque.nivel = mi_auto.mover(40, mi_tanque.nivel)  # Mover el automóvil 40 km y actualizar el nivel de combustible\n"
   ]
  },
  {
   "cell_type": "markdown",
   "metadata": {},
   "source": [
    "En este código, hemos creado dos clases: Automovil y TanqueDeCombustible, cada una con una única responsabilidad. La clase Automovil se encarga de mover el automóvil y verifica si hay suficiente combustible, mientras que la clase TanqueDeCombustible se encarga de agregar combustible al tanque y gestionar su capacidad. Esto separa claramente las responsabilidades, cumpliendo con el principio de responsabilidad única."
   ]
  },
  {
   "cell_type": "code",
   "execution_count": null,
   "metadata": {},
   "outputs": [],
   "source": []
  },
  {
   "cell_type": "code",
   "execution_count": null,
   "metadata": {},
   "outputs": [],
   "source": []
  },
  {
   "cell_type": "code",
   "execution_count": 7,
   "metadata": {},
   "outputs": [],
   "source": [
    "# impelentacion de sugerencia de github  copilot\n",
    "\n",
    "import datetime\n",
    "def parse_expenses(expenses_string):\n",
    "    \"\"\"\n",
    "    Parse the list of expenses and return the list of triples (date, value, currency).\n",
    "    Ignore lines starting with #.\n",
    "    Parse the date using datetime.\n",
    "    Example expenses_string:\n",
    "        2016-01-02 -34.01 USD\n",
    "        2016-01-03 2.59 DKK\n",
    "        2016-01-03 -2.72 EUR\n",
    "    \n",
    "    Traduccion:\n",
    "    \n",
    "    Analiza la lista de gastos y devuelve la lista le la tripleta (fecha, valor, moneda).\n",
    "    Ignore las líneas que comienzan con #.\n",
    "    Analiza la fecha usando datetime.\n",
    "    Ejemplo de cadena_gastos:\n",
    "        2016-01-02 -34.01 USD\n",
    "        2016-01-03 2.59 DKK\n",
    "        2016-01-03 -2.72 EUR\n",
    "    \"\"\"\n",
    "    expenses = []\n",
    "    for line in expenses_string.splitlines():\n",
    "        if line.startswith(\"#\"):\n",
    "            continue\n",
    "        date, value, currency = line.split(\" \")\n",
    "        expenses.append((datetime.datetime.strptime(date, \"%Y-%m-%d\"),\n",
    "                        float(value),\n",
    "                        currency))\n",
    "    return expenses"
   ]
  },
  {
   "cell_type": "code",
   "execution_count": 8,
   "metadata": {},
   "outputs": [
    {
     "data": {
      "text/plain": [
       "[(datetime.datetime(2016, 1, 2, 0, 0), -34.01, 'USD')]"
      ]
     },
     "execution_count": 8,
     "metadata": {},
     "output_type": "execute_result"
    }
   ],
   "source": [
    "response = parse_expenses('2016-01-02 -34.01 USD')\n",
    "response"
   ]
  },
  {
   "cell_type": "code",
   "execution_count": 9,
   "metadata": {},
   "outputs": [
    {
     "data": {
      "text/plain": [
       "list"
      ]
     },
     "execution_count": 9,
     "metadata": {},
     "output_type": "execute_result"
    }
   ],
   "source": [
    "type(response)"
   ]
  },
  {
   "cell_type": "code",
   "execution_count": 10,
   "metadata": {},
   "outputs": [
    {
     "data": {
      "text/plain": [
       "tuple"
      ]
     },
     "execution_count": 10,
     "metadata": {},
     "output_type": "execute_result"
    }
   ],
   "source": [
    "type(response[0])"
   ]
  },
  {
   "cell_type": "code",
   "execution_count": null,
   "metadata": {},
   "outputs": [],
   "source": [
    "# refactorizando con Chatgpt"
   ]
  },
  {
   "cell_type": "code",
   "execution_count": 14,
   "metadata": {},
   "outputs": [],
   "source": [
    "import datetime\n",
    "\n",
    "def parse_expenses(expenses_string):\n",
    "    \"\"\"\n",
    "    Parse the list of expenses and return the list of triples (date, value, currency).\n",
    "    \n",
    "    This function takes a string containing a list of expenses and parses it into a list of tuples.\n",
    "    Each tuple contains three elements: date (as a datetime object), value (as a float), and currency (as a string).\n",
    "    \n",
    "    Lines starting with '#' are ignored. The date is parsed using the datetime module.\n",
    "    \n",
    "    Example expenses_string:\n",
    "        2016-01-02 -34.01 USD\n",
    "        2016-01-03 2.59 DKK\n",
    "        2016-01-03 -2.72 EUR\n",
    "    \"\"\"\n",
    "    expenses = []  # Inicializamos una lista vacía para almacenar los gastos\n",
    "    \n",
    "    # Dividimos la cadena en líneas y procesamos cada línea por separado\n",
    "    for line in expenses_string.splitlines():\n",
    "        if line.startswith(\"#\"):  # Ignoramos las líneas que comienzan con '#'\n",
    "            continue\n",
    "        \n",
    "        parts = line.split()  # Dividimos la línea en sus componentes\n",
    "        if len(parts) == 3:\n",
    "            date_str, value_str, currency = parts\n",
    "            try:\n",
    "                # Intentamos analizar la fecha en el formato especificado\n",
    "                date = datetime.datetime.strptime(date_str, \"%Y-%m-%d\")\n",
    "                value = float(value_str)  # Intentamos convertir el valor a un número flotante\n",
    "                expenses.append((date, value, currency))  # Agregamos la tupla a la lista de gastos\n",
    "            except (ValueError, TypeError):\n",
    "                # Manejamos posibles errores al analizar la fecha o el valor\n",
    "                print(f\"Error parsing line: {line}\")\n",
    "        else:\n",
    "            # Manejamos líneas con un formato incorrecto\n",
    "            print(f\"Invalid line: {line}\")\n",
    "    \n",
    "    return expenses  # Devolvemos la lista de gastos al final\n"
   ]
  },
  {
   "cell_type": "code",
   "execution_count": 15,
   "metadata": {},
   "outputs": [
    {
     "data": {
      "text/plain": [
       "[(datetime.datetime(2016, 1, 2, 0, 0), -34.01, 'USD')]"
      ]
     },
     "execution_count": 15,
     "metadata": {},
     "output_type": "execute_result"
    }
   ],
   "source": [
    "response = parse_expenses('2016-01-02 -34.01 USD')\n",
    "response"
   ]
  },
  {
   "cell_type": "code",
   "execution_count": null,
   "metadata": {},
   "outputs": [],
   "source": [
    "producto = {\n",
    "    \"nombre\": \"Computadora portátil\",\n",
    "    \"precio\": 799.99,\n",
    "    \"disponible\": True,\n",
    "    \"caracteristicas\": [\"Pantalla de 15 pulgadas\", \"Procesador Intel i7\", \"8 GB de RAM\"],\n",
    "    \"fabricante\": {\n",
    "        \"nombre\": \"Empresa XYZ\",\n",
    "        \"ubicacion\": \"Ciudad Ejemplo\",\n",
    "    }\n",
    "}"
   ]
  },
  {
   "cell_type": "code",
   "execution_count": 4,
   "metadata": {},
   "outputs": [],
   "source": [
    "def modify_string(s):\n",
    "    result = []\n",
    "    count = 1\n",
    "    \n",
    "    for i in range(1, len(s)):\n",
    "        if s[i] == s[i - 1]:\n",
    "            count += 1\n",
    "        else:\n",
    "            result.append(f'({count}, {s[i - 1]})')\n",
    "            count = 1\n",
    "    \n",
    "    # Append the last character(s) and its count\n",
    "    result.append(f'({count}, {s[-1]})')\n",
    "    \n",
    "    return ' '.join(result)\n",
    "\n"
   ]
  },
  {
   "cell_type": "code",
   "execution_count": 5,
   "metadata": {},
   "outputs": [
    {
     "name": "stdout",
     "output_type": "stream",
     "text": [
      "(1, 1) (3, 2) (1, 3) (2, 1)\n"
     ]
    }
   ],
   "source": [
    "# Input\n",
    "s = '1222311'\n",
    "\n",
    "# Output\n",
    "modified_string = modify_string(s)\n",
    "print(modified_string)"
   ]
  },
  {
   "cell_type": "markdown",
   "metadata": {},
   "source": [
    "# decoradores"
   ]
  },
  {
   "cell_type": "code",
   "execution_count": 16,
   "metadata": {},
   "outputs": [
    {
     "name": "stdout",
     "output_type": "stream",
     "text": [
      "Antes de la función.\n",
      "¡Hola, mundo!\n",
      "Después de la función.\n"
     ]
    }
   ],
   "source": [
    "def mi_decorador(func):\n",
    "    def wrapper():\n",
    "        print(\"Antes de la función.\")\n",
    "        func()\n",
    "        print(\"Después de la función.\")\n",
    "    return wrapper\n",
    "\n",
    "@mi_decorador\n",
    "def saludo():\n",
    "    print(\"¡Hola, mundo!\")\n",
    "\n",
    "saludo()\n"
   ]
  },
  {
   "cell_type": "markdown",
   "metadata": {},
   "source": [
    "# Ejemplo\n",
    "\n",
    "Supongamos que tenemos una clase Producto que tiene atributos como nombre, precio y descripción. Queremos aplicar un decorador para comprobar si un usuario tiene permisos de administrador antes de permitir la modificación del precio del producto. Aquí está el código:"
   ]
  },
  {
   "cell_type": "markdown",
   "metadata": {},
   "source": [
    "En este ejemplo, hemos definido la clase Producto, que tiene un método cambiar_precio decorado con @verificar_admin. El decorador verificar_admin verifica si el usuario es un administrador (representado por el atributo es_administrador) antes de permitir la modificación del precio. Si el usuario no es un administrador, se le mostrará un mensaje que indica que no tiene permiso.\n",
    "\n",
    "El resultado de ejecutar el código mostrará cómo el decorador verifica los permisos antes de permitir cambios en el precio del producto. Esto es solo un ejemplo sencillo de cómo los decoradores pueden utilizarse para controlar el acceso a funciones o métodos dentro de una clase."
   ]
  },
  {
   "cell_type": "code",
   "execution_count": 28,
   "metadata": {},
   "outputs": [],
   "source": [
    "# Decorador para verificar permisos de administrador\n",
    "def verificar_admin(func):\n",
    "    def wrapper(self, *args, **kwargs):\n",
    "        if self.es_administrador ==True:\n",
    "            return func(self, *args, **kwargs)\n",
    "        else:\n",
    "            return \"No tienes permiso para realizar esta acción.\"\n",
    "    return wrapper\n",
    "\n",
    "class Producto:\n",
    "    def __init__(self, nombre, precio, descripcion, es_administrador=True):\n",
    "        self.nombre = nombre\n",
    "        self.precio = precio\n",
    "        self.descripcion = descripcion\n",
    "        self.es_administrador = es_administrador\n",
    "\n",
    "    @verificar_admin\n",
    "    def cambiar_precio(self, nuevo_precio):\n",
    "        self.precio = nuevo_precio\n",
    "\n",
    "    def __str__(self):\n",
    "        return f\"Producto: {self.nombre}, Precio: {self.precio}, Descripción: {self.descripcion}\"\n",
    "\n"
   ]
  },
  {
   "cell_type": "code",
   "execution_count": 29,
   "metadata": {},
   "outputs": [
    {
     "name": "stdout",
     "output_type": "stream",
     "text": [
      "Producto: Laptop, Precio: 1000, Descripción: Computadora portátil\n"
     ]
    }
   ],
   "source": [
    "# Crear un producto\n",
    "producto1 = Producto(\"Laptop\", 1000, \"Computadora portátil\")\n",
    "print(producto1)"
   ]
  },
  {
   "cell_type": "code",
   "execution_count": 30,
   "metadata": {},
   "outputs": [
    {
     "name": "stdout",
     "output_type": "stream",
     "text": [
      "Producto: Laptop, Precio: 900, Descripción: Computadora portátil\n"
     ]
    }
   ],
   "source": [
    "# Cambiar el precio como administrador\n",
    "producto1.cambiar_precio(900)\n",
    "print(producto1)"
   ]
  },
  {
   "cell_type": "code",
   "execution_count": 31,
   "metadata": {},
   "outputs": [
    {
     "name": "stdout",
     "output_type": "stream",
     "text": [
      "Producto: Teléfono, Precio: 500, Descripción: Teléfono móvil\n",
      "Producto: Teléfono, Precio: 450, Descripción: Teléfono móvil\n"
     ]
    }
   ],
   "source": [
    "# Intentar cambiar el precio sin permisos de administrador\n",
    "producto2 = Producto(\"Teléfono\", 500, \"Teléfono móvil\")\n",
    "print(producto2)\n",
    "producto2.cambiar_precio(450)\n",
    "print(producto2)"
   ]
  },
  {
   "cell_type": "markdown",
   "metadata": {},
   "source": [
    "## Getter and setters"
   ]
  },
  {
   "cell_type": "markdown",
   "metadata": {},
   "source": [
    "En Python, los \"getters\" y \"setters\" son métodos especiales utilizados para acceder y modificar los atributos de una clase. Aunque en algunos otros lenguajes de programación, como Java, es común utilizar \"getters\" y \"setters\" explícitos, en Python se sigue una convención diferente gracias a su enfoque en la simplicidad y la legibilidad del código. En lugar de usar \"getNombre()\" y \"setNombre(nuevoNombre)\", Python utiliza atributos públicos y propiedades para lograr funcionalidad similar. Sin embargo, si es necesario realizar alguna validación o lógica personalizada al acceder o modificar un atributo, Python permite definir propiedades y decoradores. A continuación, se muestra un ejemplo:"
   ]
  },
  {
   "cell_type": "code",
   "execution_count": null,
   "metadata": {},
   "outputs": [],
   "source": [
    "class Persona:\n",
    "    def __init__(self, nombre, edad):\n",
    "        self._nombre = nombre  # Atributo privado con un guión bajo (convención)\n",
    "        self._edad = edad\n",
    "\n",
    "    @property\n",
    "    def nombre(self):\n",
    "        return self._nombre\n",
    "\n",
    "    @nombre.setter\n",
    "    def nombre(self, nuevo_nombre):\n",
    "        if isinstance(nuevo_nombre, str):\n",
    "            self._nombre = nuevo_nombre\n",
    "        else:\n",
    "            print(\"El nombre debe ser una cadena de caracteres.\")\n",
    "\n",
    "    @property\n",
    "    def edad(self):\n",
    "        return self._edad\n",
    "\n",
    "    @edad.setter\n",
    "    def edad(self, nueva_edad):\n",
    "        if nueva_edad >= 0:\n",
    "            self._edad = nueva_edad\n",
    "        else:\n",
    "            print(\"La edad debe ser un número positivo.\")\n",
    "\n",
    "# Crear una instancia de la clase Persona\n",
    "persona1 = Persona(\"Juan\", 30)\n",
    "\n",
    "# Acceder al nombre y edad a través de propiedades\n",
    "print(persona1.nombre)  # Imprime: Juan\n",
    "print(persona1.edad)    # Imprime: 30\n",
    "\n",
    "# Modificar el nombre y edad a través de propiedades\n",
    "persona1.nombre = \"Pedro\"\n",
    "persona1.edad = 35\n",
    "\n",
    "# Intentar asignar un tipo incorrecto\n",
    "persona1.nombre = 42  # Imprimirá un mensaje de error\n",
    "\n",
    "# Intentar asignar una edad negativa\n",
    "persona1.edad = -5    # Imprimirá un mensaje de error\n"
   ]
  },
  {
   "cell_type": "markdown",
   "metadata": {},
   "source": [
    "# Clases Abstraptas"
   ]
  },
  {
   "cell_type": "markdown",
   "metadata": {},
   "source": [
    "Las clases que heredan de la clase abstracta deben implementar todos los métodos abstractos definidos en la clase base. Si no lo hacen, se generará un error en tiempo de ejecución"
   ]
  },
  {
   "cell_type": "markdown",
   "metadata": {},
   "source": [
    "n este ejemplo, FiguraGeometrica es una clase abstracta que define dos métodos abstractos, area y perimetro. Las clases derivadas, como Circulo y Rectangulo, deben implementar estos métodos para poder ser instanciadas. Las clases abstractas en Python son útiles para establecer una estructura común para las clases derivadas y garantizar que ciertos métodos sean implementados de manera coherente."
   ]
  },
  {
   "cell_type": "code",
   "execution_count": null,
   "metadata": {},
   "outputs": [],
   "source": [
    "from abc import ABC, abstractmethod\n",
    "\n",
    "class FiguraGeometrica(ABC):\n",
    "\n",
    "    @abstractmethod\n",
    "    def area(self):\n",
    "        pass\n",
    "\n",
    "    @abstractmethod\n",
    "    def perimetro(self):\n",
    "        pass\n",
    "\n",
    "class Circulo(FiguraGeometrica):\n",
    "\n",
    "    def __init__(self, radio):\n",
    "        self.radio = radio\n",
    "\n",
    "    def area(self):\n",
    "        return 3.14159 * self.radio * self.radio\n",
    "\n",
    "    def perimetro(self):\n",
    "        return 2 * 3.14159 * self.radio\n",
    "\n",
    "class Rectangulo(FiguraGeometrica):\n",
    "\n",
    "    def __init__(self, largo, ancho):\n",
    "        self.largo = largo\n",
    "        self.ancho = ancho\n",
    "\n",
    "    def area(self):\n",
    "        return self.largo * self.ancho\n",
    "\n",
    "    def perimetro(self):\n",
    "        return 2 * (self.largo + self.ancho)\n",
    "\n",
    "# Intentar instanciar la clase abstracta generará un error\n",
    "# figura = FiguraGeometrica()\n",
    "\n",
    "circulo = Circulo(5)\n",
    "print(\"Área del círculo:\", circulo.area())\n",
    "print(\"Perímetro del círculo:\", circulo.perimetro())\n",
    "\n",
    "rectangulo = Rectangulo(4, 6)\n",
    "print(\"Área del rectángulo:\", rectangulo.area())\n",
    "print(\"Perímetro del rectángulo:\", rectangulo.perimetro())\n"
   ]
  },
  {
   "cell_type": "code",
   "execution_count": null,
   "metadata": {},
   "outputs": [],
   "source": []
  },
  {
   "cell_type": "code",
   "execution_count": null,
   "metadata": {},
   "outputs": [],
   "source": []
  },
  {
   "cell_type": "code",
   "execution_count": null,
   "metadata": {},
   "outputs": [],
   "source": []
  },
  {
   "cell_type": "code",
   "execution_count": null,
   "metadata": {},
   "outputs": [],
   "source": []
  },
  {
   "cell_type": "code",
   "execution_count": null,
   "metadata": {},
   "outputs": [],
   "source": []
  }
 ],
 "metadata": {
  "kernelspec": {
   "display_name": "Python 3",
   "language": "python",
   "name": "python3"
  },
  "language_info": {
   "codemirror_mode": {
    "name": "ipython",
    "version": 3
   },
   "file_extension": ".py",
   "mimetype": "text/x-python",
   "name": "python",
   "nbconvert_exporter": "python",
   "pygments_lexer": "ipython3",
   "version": "3.8.3"
  }
 },
 "nbformat": 4,
 "nbformat_minor": 4
}
